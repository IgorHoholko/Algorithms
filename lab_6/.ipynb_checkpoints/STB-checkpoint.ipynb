{
 "cells": [
  {
   "cell_type": "code",
   "execution_count": 251,
   "metadata": {},
   "outputs": [],
   "source": [
    "import numpy as np\n",
    "import copy\n",
    "import marriage as mg"
   ]
  },
  {
   "cell_type": "markdown",
   "metadata": {},
   "source": [
    "# Creating Data"
   ]
  },
  {
   "cell_type": "code",
   "execution_count": 2,
   "metadata": {},
   "outputs": [],
   "source": [
    "N = 10\n",
    "\n",
    "work = np.random.randint(2, 12, (N,N))\n",
    "\n",
    "wish = np.arange(0, N)\n",
    "staff = np.empty_like(work)\n",
    "for i in range(N):\n",
    "    staff[i] = np.random.permutation(wish) "
   ]
  },
  {
   "cell_type": "code",
   "execution_count": 248,
   "metadata": {},
   "outputs": [
    {
     "data": {
      "text/plain": [
       "array([[2, 7, 3, 5, 1, 8, 9, 0, 6, 4],\n",
       "       [3, 7, 2, 0, 4, 9, 5, 6, 1, 8],\n",
       "       [6, 5, 3, 9, 1, 2, 7, 8, 0, 4],\n",
       "       [0, 4, 1, 7, 6, 5, 3, 9, 2, 8],\n",
       "       [2, 1, 0, 8, 9, 6, 3, 7, 4, 5],\n",
       "       [4, 3, 9, 7, 0, 6, 1, 5, 8, 2],\n",
       "       [9, 8, 1, 2, 7, 6, 0, 5, 3, 4],\n",
       "       [3, 1, 9, 7, 2, 8, 5, 4, 0, 6],\n",
       "       [4, 2, 3, 8, 5, 1, 7, 9, 6, 0],\n",
       "       [1, 8, 5, 2, 6, 7, 9, 4, 0, 3]])"
      ]
     },
     "execution_count": 248,
     "metadata": {},
     "output_type": "execute_result"
    }
   ],
   "source": [
    "staff"
   ]
  },
  {
   "cell_type": "code",
   "execution_count": 249,
   "metadata": {},
   "outputs": [
    {
     "data": {
      "text/plain": [
       "array([[ 4,  2,  5,  6, 10,  2,  8,  4,  5,  5],\n",
       "       [11,  8, 10,  8,  4,  4, 10, 10, 11,  3],\n",
       "       [ 8,  5,  5,  7,  6,  6,  6, 10,  5,  6],\n",
       "       [ 9,  8,  4,  7,  9, 11,  4,  4, 11, 10],\n",
       "       [ 6,  5,  5,  4,  7,  2, 11,  5,  3,  6],\n",
       "       [ 5,  4, 10, 10,  7,  7,  8,  4, 11, 11],\n",
       "       [ 2,  6,  9,  5, 11,  4,  4,  7, 10,  6],\n",
       "       [11,  9,  7,  5,  2,  9,  7,  3,  3,  5],\n",
       "       [11,  5,  5, 11,  2,  8,  5,  8,  6,  9],\n",
       "       [ 5,  9,  5,  6,  5,  4,  6, 10,  6,  2]])"
      ]
     },
     "execution_count": 249,
     "metadata": {},
     "output_type": "execute_result"
    }
   ],
   "source": [
    "work"
   ]
  },
  {
   "cell_type": "code",
   "execution_count": 250,
   "metadata": {},
   "outputs": [],
   "source": [
    "#test\n",
    "women = np.array([\n",
    "    [10, 20, 10],\n",
    "    [30, 20, 10],\n",
    "    [9, 30, 20]\n",
    "])\n",
    "\n",
    "men = np.array([\n",
    "    [0, 1, 2],\n",
    "    [1, 0, 2],\n",
    "    [1, 2, 0]\n",
    "])"
   ]
  },
  {
   "cell_type": "markdown",
   "metadata": {},
   "source": [
    "# Gale-Shapley algorithm check"
   ]
  },
  {
   "cell_type": "code",
   "execution_count": 252,
   "metadata": {},
   "outputs": [],
   "source": [
    "SpeedFirst = mg.marriage_speed_desire(work, staff)"
   ]
  },
  {
   "cell_type": "code",
   "execution_count": 253,
   "metadata": {},
   "outputs": [],
   "source": [
    "DesireFirst = mg.marriage_desire_speed(staff, work)"
   ]
  },
  {
   "cell_type": "code",
   "execution_count": 254,
   "metadata": {},
   "outputs": [
    {
     "name": "stdout",
     "output_type": "stream",
     "text": [
      "desire:  8\n",
      "speed:  62\n",
      "max_speed:  28\n",
      "max_speed - speed =  34\n"
     ]
    }
   ],
   "source": [
    "mg.get_description(staff, work, DesireFirst)"
   ]
  },
  {
   "cell_type": "code",
   "execution_count": 255,
   "metadata": {},
   "outputs": [
    {
     "name": "stdout",
     "output_type": "stream",
     "text": [
      "desire:  58\n",
      "speed:  36\n",
      "max_speed:  28\n",
      "max_speed - speed =  8\n"
     ]
    }
   ],
   "source": [
    "mg.get_description(staff, work, SpeedFirst)"
   ]
  },
  {
   "cell_type": "markdown",
   "metadata": {},
   "source": [
    "# Gale-Shapley algorithm deep check"
   ]
  },
  {
   "cell_type": "markdown",
   "metadata": {},
   "source": [
    "### Speed is the main thing!"
   ]
  },
  {
   "cell_type": "code",
   "execution_count": 256,
   "metadata": {},
   "outputs": [
    {
     "data": {
      "text/plain": [
       "{0: 1, 1: 2, 2: 0}"
      ]
     },
     "execution_count": 256,
     "metadata": {},
     "output_type": "execute_result"
    }
   ],
   "source": [
    "SpeedFirst_test = mg.marriage_speed_desire(women, men)\n",
    "SpeedFirst_test"
   ]
  },
  {
   "cell_type": "code",
   "execution_count": 257,
   "metadata": {},
   "outputs": [
    {
     "name": "stdout",
     "output_type": "stream",
     "text": [
      "desire:  5\n",
      "speed:  39\n",
      "max_speed:  29\n",
      "max_speed - speed =  10\n"
     ]
    }
   ],
   "source": [
    "mg.get_description(men, women, SpeedFirst_test)"
   ]
  },
  {
   "cell_type": "markdown",
   "metadata": {},
   "source": [
    "### Desire is the main thing!!!"
   ]
  },
  {
   "cell_type": "code",
   "execution_count": 259,
   "metadata": {},
   "outputs": [
    {
     "data": {
      "text/plain": [
       "{0: 0, 1: 2, 2: 1}"
      ]
     },
     "execution_count": 259,
     "metadata": {},
     "output_type": "execute_result"
    }
   ],
   "source": [
    "DesireFirst_test = mg.marriage_desire_speed(men, women)\n",
    "DesireFirst_test"
   ]
  },
  {
   "cell_type": "code",
   "execution_count": 260,
   "metadata": {},
   "outputs": [
    {
     "name": "stdout",
     "output_type": "stream",
     "text": [
      "desire:  2\n",
      "speed:  50\n",
      "max_speed:  29\n",
      "max_speed - speed =  21\n"
     ]
    }
   ],
   "source": [
    "mg.get_description(men, women, DesireFirst_test)"
   ]
  },
  {
   "cell_type": "code",
   "execution_count": null,
   "metadata": {},
   "outputs": [],
   "source": []
  }
 ],
 "metadata": {
  "kernelspec": {
   "display_name": "Python 3",
   "language": "python",
   "name": "python3"
  },
  "language_info": {
   "codemirror_mode": {
    "name": "ipython",
    "version": 3
   },
   "file_extension": ".py",
   "mimetype": "text/x-python",
   "name": "python",
   "nbconvert_exporter": "python",
   "pygments_lexer": "ipython3",
   "version": "3.5.0"
  }
 },
 "nbformat": 4,
 "nbformat_minor": 2
}
