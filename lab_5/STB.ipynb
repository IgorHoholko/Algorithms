{
 "cells": [
  {
   "cell_type": "code",
   "execution_count": 1,
   "metadata": {},
   "outputs": [],
   "source": [
    "import numpy as np"
   ]
  },
  {
   "cell_type": "code",
   "execution_count": 2,
   "metadata": {},
   "outputs": [],
   "source": [
    "N = 10\n",
    "\n",
    "work = np.random.randint(2, 12, (N,N))\n",
    "\n",
    "wish = np.arange(0, N)\n",
    "staff = np.empty_like(work)\n",
    "for i in range(N):\n",
    "    staff[i] = np.random.permutation(wish) "
   ]
  },
  {
   "cell_type": "code",
   "execution_count": 3,
   "metadata": {},
   "outputs": [
    {
     "data": {
      "text/plain": [
       "array([[2, 7, 3, 5, 1, 8, 9, 0, 6, 4],\n",
       "       [3, 7, 2, 0, 4, 9, 5, 6, 1, 8],\n",
       "       [6, 5, 3, 9, 1, 2, 7, 8, 0, 4],\n",
       "       [0, 4, 1, 7, 6, 5, 3, 9, 2, 8],\n",
       "       [2, 1, 0, 8, 9, 6, 3, 7, 4, 5],\n",
       "       [4, 3, 9, 7, 0, 6, 1, 5, 8, 2],\n",
       "       [9, 8, 1, 2, 7, 6, 0, 5, 3, 4],\n",
       "       [3, 1, 9, 7, 2, 8, 5, 4, 0, 6],\n",
       "       [4, 2, 3, 8, 5, 1, 7, 9, 6, 0],\n",
       "       [1, 8, 5, 2, 6, 7, 9, 4, 0, 3]])"
      ]
     },
     "execution_count": 3,
     "metadata": {},
     "output_type": "execute_result"
    }
   ],
   "source": [
    "staff"
   ]
  },
  {
   "cell_type": "code",
   "execution_count": 4,
   "metadata": {},
   "outputs": [
    {
     "data": {
      "text/plain": [
       "array([[ 4,  2,  5,  6, 10,  2,  8,  4,  5,  5],\n",
       "       [11,  8, 10,  8,  4,  4, 10, 10, 11,  3],\n",
       "       [ 8,  5,  5,  7,  6,  6,  6, 10,  5,  6],\n",
       "       [ 9,  8,  4,  7,  9, 11,  4,  4, 11, 10],\n",
       "       [ 6,  5,  5,  4,  7,  2, 11,  5,  3,  6],\n",
       "       [ 5,  4, 10, 10,  7,  7,  8,  4, 11, 11],\n",
       "       [ 2,  6,  9,  5, 11,  4,  4,  7, 10,  6],\n",
       "       [11,  9,  7,  5,  2,  9,  7,  3,  3,  5],\n",
       "       [11,  5,  5, 11,  2,  8,  5,  8,  6,  9],\n",
       "       [ 5,  9,  5,  6,  5,  4,  6, 10,  6,  2]])"
      ]
     },
     "execution_count": 4,
     "metadata": {},
     "output_type": "execute_result"
    }
   ],
   "source": [
    "work"
   ]
  },
  {
   "cell_type": "code",
   "execution_count": 29,
   "metadata": {},
   "outputs": [],
   "source": [
    "women = np.array([\n",
    "    [10, 20, 10],\n",
    "    [30, 20, 10],\n",
    "    [10, 30, 20]\n",
    "])\n",
    "men = np.array([\n",
    "    [0, 1, 2],\n",
    "    [1, 0, 2],\n",
    "    [1, 2, 0]\n",
    "])"
   ]
  },
  {
   "cell_type": "code",
   "execution_count": 101,
   "metadata": {},
   "outputs": [],
   "source": [
    "def marriage(M, W):\n",
    "    n = M.shape[0]\n",
    "    mdict = {i:None for i in range(n)}\n",
    "    wdict = {i:None for i in range(n)}\n",
    "    \n",
    "    for column in M.T:\n",
    "        for man, choice in enumerate(column):\n",
    "            #if man is free, see\n",
    "            if mdict[man] is None:\n",
    "                #women is free\n",
    "                if wdict[choice] == None:\n",
    "                    #couple without any problems\n",
    "                    wdict[choice] = man\n",
    "                    mdict[man] = choice\n",
    "\n",
    "                #choice the women is worse than current one\n",
    "                elif W[choice, wdict[choice]] > W[choice, man]:\n",
    "                    #say sorry previous man\n",
    "                    mdict[wdict[choice]] = None\n",
    "                    # say hi new man\n",
    "                    wdict[choice] = man\n",
    "                    # my new girl\n",
    "                    mdict[man] = choice\n",
    "                    \n",
    "    return mdict, wdict"
   ]
  },
  {
   "cell_type": "code",
   "execution_count": 105,
   "metadata": {},
   "outputs": [],
   "source": [
    "S, W = marriage(staff, work)"
   ]
  },
  {
   "cell_type": "code",
   "execution_count": 106,
   "metadata": {},
   "outputs": [
    {
     "data": {
      "text/plain": [
       "{0: 5, 1: 7, 2: 6, 3: 0, 4: 8, 5: 4, 6: 9, 7: 3, 8: 2, 9: 1}"
      ]
     },
     "execution_count": 106,
     "metadata": {},
     "output_type": "execute_result"
    }
   ],
   "source": [
    "S"
   ]
  },
  {
   "cell_type": "code",
   "execution_count": 107,
   "metadata": {},
   "outputs": [
    {
     "data": {
      "text/plain": [
       "{0: 3, 1: 9, 2: 8, 3: 7, 4: 5, 5: 0, 6: 2, 7: 1, 8: 4, 9: 6}"
      ]
     },
     "execution_count": 107,
     "metadata": {},
     "output_type": "execute_result"
    }
   ],
   "source": [
    "W"
   ]
  },
  {
   "cell_type": "code",
   "execution_count": null,
   "metadata": {},
   "outputs": [],
   "source": []
  }
 ],
 "metadata": {
  "kernelspec": {
   "display_name": "Python 3",
   "language": "python",
   "name": "python3"
  },
  "language_info": {
   "codemirror_mode": {
    "name": "ipython",
    "version": 3
   },
   "file_extension": ".py",
   "mimetype": "text/x-python",
   "name": "python",
   "nbconvert_exporter": "python",
   "pygments_lexer": "ipython3",
   "version": "3.5.0"
  }
 },
 "nbformat": 4,
 "nbformat_minor": 2
}
