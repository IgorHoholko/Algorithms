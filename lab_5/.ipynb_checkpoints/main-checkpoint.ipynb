{
 "cells": [
  {
   "cell_type": "code",
   "execution_count": null,
   "metadata": {},
   "outputs": [],
   "source": [
    "def get_min_weight_spanner(G, mod = \"P\"):\n",
    "    if mod == 'P':\n",
    "        return _prim(G)\n",
    "    elif mod == 'K':\n",
    "        "
   ]
  },
  {
   "cell_type": "code",
   "execution_count": 305,
   "metadata": {},
   "outputs": [],
   "source": [
    "import numpy as np\n",
    "import copy\n",
    "import networkx as nx\n",
    "import matplotlib.pyplot as plt\n",
    "\n",
    "class Graph:\n",
    "    def __init__(self, params_drawing = {}, storage_method = 'list'):\n",
    "        \"\"\"\n",
    "        Parameters\n",
    "        ----------\n",
    "            params_drawing : dict\n",
    "                The dict with params for drawing.\n",
    "                'font_size' --- 'node_size' --- 'node_color' --- 'font_color' --- 'font_weight'\n",
    "                \n",
    "            storage_method : optional\n",
    "                Variable to choose the method of the vertices' storing.\n",
    "                \n",
    "                ========    ============\n",
    "                'matrix'    matrix only\n",
    "                'list'      list only\n",
    "                'both'      both of them\n",
    "        \"\"\"\n",
    "        self.stor_method = storage_method\n",
    "        self.list = list()     # adjacency List\n",
    "        self.AM = None         # adjacency Matrix\n",
    "        self.keys_idx = dict()\n",
    "        self.idx_keys = dict()  \n",
    "        self.params_drawing = {'font_size': 15, 'node_size' : 1000, 'node_color' : 'black',\\\n",
    "                               'font_color' : 'w', 'font_weight': 'bold'}\n",
    "        self.m = 0    #num of the edges\n",
    "        self.n = 0    #num of the vertices\n",
    "        \n",
    "        self.params_drawing.update(params_drawing)\n",
    "        print(self.params_drawing)\n",
    "      \n",
    "    \n",
    "    def _addTo_graph_list(self):\n",
    "        \"Expand the adjacency list when adding a point\"\n",
    "        self.list.append([])\n",
    "\n",
    "            \n",
    "    def _addTo_graph_matrix(self):\n",
    "        \"Expand the adjacency matrix when adding a point\"\n",
    "        if self.AM is not None:\n",
    "            self.AM = np.hstack((self.AM, np.zeros((self.AM.shape[0], 1)) ))\n",
    "            self.AM = np.vstack((self.AM, np.zeros((1, self.AM.shape[1])) ))\n",
    "        else:\n",
    "            self.AM = np.zeros((1, 1)) \n",
    "    \n",
    "    \n",
    "    def _add_adj(self, v, other_v, value = 1):\n",
    "        \"Add the adjacency between the vertex 'v' and the vertices(vertex) 'other_v' \"\n",
    "        self.AM[v, other_v] = value\n",
    "        self.AM[other_v, v] = value\n",
    "    \n",
    "    def _del_adj(self, v, other_v):\n",
    "        \"Delete the adjacency between the vertex 'v' and the vertices(vertex) 'other_v' \"\n",
    "        self.AM[v, other_v] = 0\n",
    "        self.AM[other_v, v] = 0\n",
    "        \n",
    "        \n",
    "    def _keys_to_indexis(self, keys):\n",
    "        \"Transform vertices' keys to the vertices' idx\"\n",
    "        if type(keys) is tuple or type(keys) is list:\n",
    "            return [self.keys_idx.get(el) for el in keys]\n",
    "        else:\n",
    "            return self.keys_idx.get(keys)\n",
    "        \n",
    "    def _indexis_to_keys(self, idxs):\n",
    "        \"Transform vertices' indexis to the vertices' keys\"\n",
    "        if type(idxs) is not int and type(idxs) is not str:\n",
    "            return [self.idx_keys.get(el) for el in idxs]\n",
    "        else:\n",
    "            return self.idx_keys.get(idxs)\n",
    "    \n",
    "    def _creatr_idx_dict_from_keys_dict(self):\n",
    "        \"Create new the idx_keys dictionary from the keys_dict dictionary\"\n",
    "        self.idx_keys.clear()\n",
    "        for key in self.keys_idx:\n",
    "            self.idx_keys.setdefault(self.keys_idx[key], key)\n",
    "        \n",
    "        \n",
    "    def _update_dicts(self, idx):  \n",
    "        \"Update dicts\"\n",
    "        for key in self.keys_idx:\n",
    "            if self.keys_idx[key] > idx:\n",
    "                  self.keys_idx[key] -=1\n",
    "        self._creatr_idx_dict_from_keys_dict()\n",
    "            \n",
    "        \n",
    "    def _del_v(self, v):\n",
    "        \"Delete the vertex v from the graph\"\n",
    "        #\"Delete all connections of the point v with other ones\"\n",
    "        self.AM[v, :] = 0\n",
    "        self.AM[:, v] = 0\n",
    "        self.n -= 1\n",
    "        \n",
    "        #Selecte coordinates of the every point in the graph \n",
    "        #which is adjacent with some anather one\n",
    "        col, row = np.where(self.AM == 1)\n",
    "        \n",
    "        #Create new adjacency matrix without old vertex\n",
    "        self.AM = np.zeros((self.n, self.n))\n",
    "\n",
    "        #Prepare coordinates for the created matrix\n",
    "        for i in range(len(col)):\n",
    "            if col[i] > v: col[i] -= 1\n",
    "            if row[i] > v: row[i] -= 1\n",
    "        \n",
    "        self.AM[col, row] = 1\n",
    "        \n",
    "        \n",
    "    def _matrix_to_list(self):\n",
    "        \"Transform the graph' adjacency matrix to the adjacency list\"\n",
    "        #Selecte coordinates of the every point in the graph \n",
    "        #which is adjacent with some anather one\n",
    "        col, row = np.where(self.AM)\n",
    "        \n",
    "        #Create new adjacency list, and append all verteces from the gtaf\n",
    "        self.list = []\n",
    "        for _ in range(self.n):\n",
    "            self._addTo_graph_list()\n",
    "        \n",
    "        #Add adjacency to the list\n",
    "        for i in range(len(col)):\n",
    "            self.list[col[i]].append(row[i])\n",
    "    \n",
    "\n",
    "    def get_list(self):\n",
    "        self._matrix_to_list()\n",
    "        return self.list\n",
    "\n",
    "\n",
    "    def get_size(self):\n",
    "        return self.n\n",
    "        \n",
    "    \n",
    "    def add_v(self, *args):\n",
    "        \"\"\"\n",
    "        Add the vertices to the graph.\n",
    "        \n",
    "        Parameters\n",
    "        ----------\n",
    "            args : tuple\n",
    "                Set of the points (v1, v2, ... v_k).\n",
    "        \"\"\"\n",
    "        for key in args:\n",
    "            if self.keys_idx.get(key) == None:\n",
    "                # add each new vertex to the dicts\n",
    "                self.keys_idx.setdefault(key, self.n)\n",
    "                self.idx_keys.setdefault(self.n, key)\n",
    "\n",
    "                #expand the storage objects\n",
    "                self._addTo_graph_matrix()\n",
    "                #number of the vertices +1\n",
    "                self.n += 1\n",
    "    \n",
    "        \n",
    "    def add_adj(self, data):\n",
    "        \"\"\" \n",
    "        Add the adjacency to the graph.\n",
    "        \n",
    "        Parameters\n",
    "        ----------\n",
    "            data : dict( key_i : (v_n) )\n",
    "                Make adjacency between vertexx key_i and vertex/vertices v_n.\n",
    "            \n",
    "                =====    ==========================\n",
    "                key_i    Any vertices in the graph.\n",
    "                (v_n)    The tuple of vertices.\n",
    "        \"\"\" \n",
    "        for key in data:\n",
    "            #transform 'names' receiving from the user to the indexes\n",
    "            idx = self.keys_idx.get(key)\n",
    "            idxs_adj = self._keys_to_indexis(data[key])\n",
    "            \n",
    "            #add the edges to the storage objects\n",
    "            self._add_adj(idx, idxs_adj)\n",
    "    \n",
    "    \n",
    "    def remove_v(self, *args):\n",
    "        \"\"\"\n",
    "        Remove the vertices from the graph.\n",
    "        \n",
    "        Parameters\n",
    "        ----------\n",
    "            args : tuple\n",
    "                Set of the points (v1, v2, ... v_k).\n",
    "        \"\"\"\n",
    "        for key in args:\n",
    "            #transform key to the index of the point\n",
    "            v_main = self._keys_to_indexis(key)\n",
    "            \n",
    "            #delete the vertex from the both dictionaries\n",
    "            self.keys_idx.pop(key)\n",
    "            self._update_dicts(v_main)\n",
    "            \n",
    "            #delete vertex from the adjacency matrix\n",
    "            self._del_v(v_main)\n",
    "        \n",
    "            \n",
    "    def set_weights(self, points, w):\n",
    "        \"\"\" \n",
    "        Add the weight (w) the couple of the points.\n",
    "        \n",
    "        Parameters\n",
    "        ----------\n",
    "            points --- array\n",
    "                Couple of the points (v1, v2).\n",
    "            w --- value/array\n",
    "                Weight between the couple of the points.\n",
    "        \"\"\" \n",
    "        try:\n",
    "            for i in range(len(w)):\n",
    "                v1, v2 = self._keys_to_indexis(points[i])\n",
    "                self._add_adj(v1, v2, w[i])\n",
    "        except:\n",
    "            v1, v2 = self._keys_to_indexis(points)\n",
    "            self._add_adj(v1, v2, w)\n",
    "    \n",
    "            \n",
    "    def remove_adj(self, data):\n",
    "        \"\"\" \n",
    "        Remove the adjacency from the graph.\n",
    "        \n",
    "        Parameters\n",
    "        ----------\n",
    "            data --- dict( key_i : (v_n) )\n",
    "                Delete adjacency between vertex key_i and vertex/vertices v_n.\n",
    "                \n",
    "                ======   ==========================\n",
    "                key_i    Any vertices in the graph.\n",
    "                (v_n)    Tuple of the vertices.\n",
    "        \"\"\" \n",
    "        for key in data:\n",
    "            #transform the 'names' receiving from the user to the indexes\n",
    "            idx = self.keys_idx.get(key)\n",
    "            idxs_adj = self._keys_to_indexis(data[key])\n",
    "            \n",
    "            #delete the edges from the storage objects\n",
    "            self._del_adj(idx, idxs_adj)\n",
    "    \n",
    "    def remove_adj_completely(self):\n",
    "        self.AM = np.zeros_like(self.AM)\n",
    "    \n",
    "    \n",
    "    \n",
    "    def print(self):\n",
    "        \"\"\" \n",
    "        Print the incidence list.\n",
    "        \"\"\"\n",
    "        \n",
    "        self._matrix_to_list()\n",
    "        for i, row in enumerate(self.list):\n",
    "            print(self.idx_keys.get(i), ' : ', tuple([self.idx_keys.get(k) for k in row]))\n",
    "        self.list = None\n",
    "    \n",
    "    \n",
    "    def draw(self):\n",
    "        \"\"\" \n",
    "        Draw the graph.\n",
    "        \"\"\"\n",
    "        \n",
    "        G=nx.Graph(self.AM)\n",
    "#         labels = nx.get_edge_attributes(G,'weight')\n",
    "        nx.draw(G, labels = self.idx_keys, \\\n",
    "                font_size= self.params_drawing.get('font_size'), \\\n",
    "                node_size=self.params_drawing.get('node_size'),  \\\n",
    "                node_color=self.params_drawing.get('node_color'),\\\n",
    "                font_color=self.params_drawing.get('font_color'),\\\n",
    "                font_weight=self.params_drawing.get('font_weight'))\n",
    "    \n",
    "    \n",
    "    \n",
    "    \n",
    "    \n",
    "    \n",
    "import copy\n",
    "\n",
    "def __search_min_prime(matr, vizited):\n",
    "    min_w = 99999\n",
    "    for i in vizited:\n",
    "        for idx, w in enumerate(matr[i]):\n",
    "            if w > 0 and w < min_w and idx not in vizited:\n",
    "                min_w = w\n",
    "                index_1 = i\n",
    "                index_2=idx\n",
    "     \n",
    "    return index_1, index_2, min_w\n",
    "\n",
    "\n",
    "def _prim(G):\n",
    "    matr = G.AM\n",
    "    MVS = copy.deepcopy(G)\n",
    "    MVS.remove_adj_completely()\n",
    "    \n",
    "    vizited=[0]\n",
    "    result=[0]\n",
    "    W = 0\n",
    "    \n",
    "    for _ in range(len(matr)-1):\n",
    "        v_first, v_new, w = __search_min_prime(matr, vizited)\n",
    "        vizited.append(v_new)\n",
    "        MVS._add_adj(v_first, v_new, w)\n",
    "        W += w\n",
    "    \n",
    "    return MVS, W"
   ]
  },
  {
   "cell_type": "code",
   "execution_count": 306,
   "metadata": {},
   "outputs": [
    {
     "data": {
      "text/plain": [
       "array([[ 0., 20.,  0.,  0.,  0.,  1., 23.],\n",
       "       [20.,  0., 15.,  0.,  0.,  4.,  0.],\n",
       "       [ 0., 15.,  0.,  3.,  0.,  9.,  0.],\n",
       "       [ 0.,  0.,  3.,  0., 17., 16.,  0.],\n",
       "       [ 0.,  0.,  0., 17.,  0., 25., 27.],\n",
       "       [ 1.,  4.,  9., 16., 25.,  1., 36.],\n",
       "       [23.,  0.,  0.,  0., 27., 36.,  0.]])"
      ]
     },
     "execution_count": 306,
     "metadata": {},
     "output_type": "execute_result"
    }
   ],
   "source": [
    "G.AM"
   ]
  },
  {
   "cell_type": "code",
   "execution_count": 307,
   "metadata": {},
   "outputs": [],
   "source": [
    "MVS, W = prim(G)"
   ]
  },
  {
   "cell_type": "code",
   "execution_count": 308,
   "metadata": {},
   "outputs": [
    {
     "name": "stdout",
     "output_type": "stream",
     "text": [
      "{'node_color': 'black', 'font_color': 'w', 'font_size': 15, 'node_size': 400, 'font_weight': 'bold'}\n"
     ]
    }
   ],
   "source": [
    "G = Graph({\"node_size\": 400})\n",
    "G.add_v('A', 'B', 'C', 'D', 'E', 'F', 'G')\n",
    "G.add_adj({'A':('G', 'B'), 'E':('G','D'), 'C':('D', 'B'), 'F':('A', 'B', 'C', 'D', 'E', 'F')})\n",
    "\n",
    "G.set_weights([('A', 'G'), ('A', 'B')], [23, 20])\n",
    "G.set_weights([('F', 'A'), ('F','B'), ('F', 'C'), ('F','D'), ('F', 'E'), ('F', 'G')], [1, 4, 9, 16, 25, 36])\n",
    "G.set_weights([('E', 'G'), ('E', 'D')], [27, 17])\n",
    "G.set_weights([('C', 'D'), ('C', 'B')], [3, 15])"
   ]
  },
  {
   "cell_type": "code",
   "execution_count": 302,
   "metadata": {},
   "outputs": [
    {
     "name": "stderr",
     "output_type": "stream",
     "text": [
      "C:\\Users\\Ihoholko\\Anaconda3\\lib\\site-packages\\networkx\\drawing\\nx_pylab.py:611: MatplotlibDeprecationWarning: isinstance(..., numbers.Number)\n",
      "  if cb.is_numlike(alpha):\n"
     ]
    },
    {
     "data": {
      "image/png": "[encoded data removed]",
      "text/plain": [
       "<Figure size 432x288 with 1 Axes>"
      ]
     },
     "metadata": {},
     "output_type": "display_data"
    }
   ],
   "source": [
    "G.draw()"
   ]
  },
  {
   "cell_type": "code",
   "execution_count": 303,
   "metadata": {},
   "outputs": [
    {
     "name": "stderr",
     "output_type": "stream",
     "text": [
      "C:\\Users\\Ihoholko\\Anaconda3\\lib\\site-packages\\networkx\\drawing\\nx_pylab.py:611: MatplotlibDeprecationWarning: isinstance(..., numbers.Number)\n",
      "  if cb.is_numlike(alpha):\n"
     ]
    },
    {
     "data": {
      "text/plain": [
       "57.0"
      ]
     },
     "execution_count": 303,
     "metadata": {},
     "output_type": "execute_result"
    },
    {
     "data": {
      "image/png": "[encoded data removed]",
      "text/plain": [
       "<Figure size 432x288 with 1 Axes>"
      ]
     },
     "metadata": {},
     "output_type": "display_data"
    }
   ],
   "source": [
    "MVS.draw()\n",
    "W"
   ]
  },
  {
   "cell_type": "code",
   "execution_count": 304,
   "metadata": {},
   "outputs": [
    {
     "data": {
      "text/plain": [
       "array([[ 0., 20.,  0.,  0.,  0.,  1., 23.],\n",
       "       [20.,  0., 15.,  0.,  0.,  4.,  0.],\n",
       "       [ 0., 15.,  0.,  3.,  0.,  9.,  0.],\n",
       "       [ 0.,  0.,  3.,  0., 17., 16.,  0.],\n",
       "       [ 0.,  0.,  0., 17.,  0., 25., 27.],\n",
       "       [ 1.,  4.,  9., 16., 25.,  1., 36.],\n",
       "       [23.,  0.,  0.,  0., 27., 36.,  0.]])"
      ]
     },
     "execution_count": 304,
     "metadata": {},
     "output_type": "execute_result"
    }
   ],
   "source": [
    "G.AM"
   ]
  },
  {
   "cell_type": "code",
   "execution_count": 297,
   "metadata": {},
   "outputs": [
    {
     "data": {
      "text/plain": [
       "array([[ 0.,  0.,  0.,  0.,  0.,  1., 23.],\n",
       "       [ 0.,  0.,  0.,  0.,  0.,  4.,  0.],\n",
       "       [ 0.,  0.,  0.,  3.,  0.,  9.,  0.],\n",
       "       [ 0.,  0.,  3.,  0., 17.,  0.,  0.],\n",
       "       [ 0.,  0.,  0., 17.,  0.,  0.,  0.],\n",
       "       [ 1.,  4.,  9.,  0.,  0.,  0.,  0.],\n",
       "       [23.,  0.,  0.,  0.,  0.,  0.,  0.]])"
      ]
     },
     "execution_count": 297,
     "metadata": {},
     "output_type": "execute_result"
    }
   ],
   "source": [
    "MVS.AM"
   ]
  }
 ],
 "metadata": {
  "kernelspec": {
   "display_name": "Python 3",
   "language": "python",
   "name": "python3"
  },
  "language_info": {
   "codemirror_mode": {
    "name": "ipython",
    "version": 3
   },
   "file_extension": ".py",
   "mimetype": "text/x-python",
   "name": "python",
   "nbconvert_exporter": "python",
   "pygments_lexer": "ipython3",
   "version": "3.5.0"
  }
 },
 "nbformat": 4,
 "nbformat_minor": 2
}
