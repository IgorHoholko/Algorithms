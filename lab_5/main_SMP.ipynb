{
 "cells": [
  {
   "cell_type": "code",
   "execution_count": 1,
   "metadata": {},
   "outputs": [],
   "source": [
    "import numpy as np\n",
    "import copy\n",
    "import marriage as mg"
   ]
  },
  {
   "cell_type": "markdown",
   "metadata": {},
   "source": [
    "# Creating Data"
   ]
  },
  {
   "cell_type": "code",
   "execution_count": 2,
   "metadata": {},
   "outputs": [],
   "source": [
    "N = 10\n",
    "\n",
    "work = np.random.randint(2, 12, (N,N))\n",
    "\n",
    "wish = np.arange(0, N)\n",
    "staff = np.empty_like(work)\n",
    "for i in range(N):\n",
    "    staff[i] = np.random.permutation(wish) "
   ]
  },
  {
   "cell_type": "code",
   "execution_count": 3,
   "metadata": {},
   "outputs": [
    {
     "data": {
      "text/plain": [
       "array([[3, 0, 9, 5, 1, 6, 7, 4, 2, 8],\n",
       "       [9, 5, 4, 6, 3, 7, 8, 1, 2, 0],\n",
       "       [2, 1, 9, 6, 7, 4, 3, 8, 5, 0],\n",
       "       [6, 3, 7, 0, 1, 8, 5, 2, 9, 4],\n",
       "       [7, 8, 1, 4, 3, 6, 0, 9, 2, 5],\n",
       "       [3, 9, 8, 0, 2, 6, 7, 1, 4, 5],\n",
       "       [4, 1, 6, 0, 8, 2, 5, 9, 7, 3],\n",
       "       [8, 0, 7, 3, 9, 1, 6, 5, 4, 2],\n",
       "       [2, 5, 0, 8, 7, 6, 3, 4, 1, 9],\n",
       "       [0, 1, 4, 3, 2, 9, 8, 6, 5, 7]])"
      ]
     },
     "execution_count": 3,
     "metadata": {},
     "output_type": "execute_result"
    }
   ],
   "source": [
    "staff"
   ]
  },
  {
   "cell_type": "code",
   "execution_count": 4,
   "metadata": {},
   "outputs": [
    {
     "data": {
      "text/plain": [
       "array([[10, 11,  4,  4,  3,  3,  9,  9,  5,  4],\n",
       "       [ 7,  3,  3,  8,  7, 10, 10,  6,  9,  7],\n",
       "       [ 7, 11,  3,  8,  9,  5,  4, 10, 10, 11],\n",
       "       [ 2,  5,  8,  9,  4,  7, 10,  9, 10,  7],\n",
       "       [ 5,  6,  9,  3, 10,  8,  3,  2,  3,  6],\n",
       "       [ 8, 10,  5,  4,  5,  7,  2,  4,  2,  5],\n",
       "       [ 5,  3,  7,  5,  2,  8, 11, 11,  2,  8],\n",
       "       [ 5, 10,  5,  5,  3,  8,  9,  2,  5,  3],\n",
       "       [11,  3,  4,  4,  5, 10, 10,  9,  8,  4],\n",
       "       [ 7,  9,  3, 10,  5,  3,  5,  4, 10, 10]])"
      ]
     },
     "execution_count": 4,
     "metadata": {},
     "output_type": "execute_result"
    }
   ],
   "source": [
    "work"
   ]
  },
  {
   "cell_type": "code",
   "execution_count": 5,
   "metadata": {},
   "outputs": [],
   "source": [
    "#test\n",
    "women = np.array([\n",
    "    [10, 20, 10],\n",
    "    [30, 20, 10],\n",
    "    [9, 30, 20]\n",
    "])\n",
    "\n",
    "men = np.array([\n",
    "    [0, 1, 2],\n",
    "    [1, 0, 2],\n",
    "    [1, 2, 0]\n",
    "])"
   ]
  },
  {
   "cell_type": "markdown",
   "metadata": {},
   "source": [
    "# Gale-Shapley algorithm check"
   ]
  },
  {
   "cell_type": "code",
   "execution_count": 6,
   "metadata": {},
   "outputs": [],
   "source": [
    "SpeedFirst = mg.marriage_speed_desire(work, staff)"
   ]
  },
  {
   "cell_type": "code",
   "execution_count": 7,
   "metadata": {},
   "outputs": [],
   "source": [
    "DesireFirst = mg.marriage_desire_speed(staff, work)"
   ]
  },
  {
   "cell_type": "code",
   "execution_count": 8,
   "metadata": {},
   "outputs": [
    {
     "name": "stdout",
     "output_type": "stream",
     "text": [
      "discontent:  9\n",
      "time:  53\n",
      "min_time:  25\n",
      "min_time- time =  28\n"
     ]
    }
   ],
   "source": [
    "mg.get_description(staff, work, DesireFirst)"
   ]
  },
  {
   "cell_type": "code",
   "execution_count": 9,
   "metadata": {},
   "outputs": [
    {
     "name": "stdout",
     "output_type": "stream",
     "text": [
      "discontent:  34\n",
      "time:  34\n",
      "min_time:  25\n",
      "min_time- time =  9\n"
     ]
    }
   ],
   "source": [
    "mg.get_description(staff, work, SpeedFirst)"
   ]
  },
  {
   "cell_type": "markdown",
   "metadata": {},
   "source": [
    "# Gale-Shapley algorithm deep check"
   ]
  },
  {
   "cell_type": "markdown",
   "metadata": {},
   "source": [
    "### Speed is the main thing!"
   ]
  },
  {
   "cell_type": "code",
   "execution_count": 10,
   "metadata": {},
   "outputs": [
    {
     "data": {
      "text/plain": [
       "{0: 1, 1: 2, 2: 0}"
      ]
     },
     "execution_count": 10,
     "metadata": {},
     "output_type": "execute_result"
    }
   ],
   "source": [
    "SpeedFirst_test = mg.marriage_speed_desire(women, men)\n",
    "SpeedFirst_test"
   ]
  },
  {
   "cell_type": "code",
   "execution_count": 11,
   "metadata": {},
   "outputs": [
    {
     "name": "stdout",
     "output_type": "stream",
     "text": [
      "discontent:  5\n",
      "time:  39\n",
      "min_time:  29\n",
      "min_time- time =  10\n"
     ]
    }
   ],
   "source": [
    "mg.get_description(men, women, SpeedFirst_test)"
   ]
  },
  {
   "cell_type": "markdown",
   "metadata": {},
   "source": [
    "### Desire is the main thing!!!"
   ]
  },
  {
   "cell_type": "code",
   "execution_count": 12,
   "metadata": {},
   "outputs": [
    {
     "data": {
      "text/plain": [
       "{0: 0, 1: 2, 2: 1}"
      ]
     },
     "execution_count": 12,
     "metadata": {},
     "output_type": "execute_result"
    }
   ],
   "source": [
    "DesireFirst_test = mg.marriage_desire_speed(men, women)\n",
    "DesireFirst_test"
   ]
  },
  {
   "cell_type": "code",
   "execution_count": 13,
   "metadata": {},
   "outputs": [
    {
     "name": "stdout",
     "output_type": "stream",
     "text": [
      "discontent:  2\n",
      "time:  50\n",
      "min_time:  29\n",
      "min_time- time =  21\n"
     ]
    }
   ],
   "source": [
    "mg.get_description(men, women, DesireFirst_test)"
   ]
  }
 ],
 "metadata": {
  "kernelspec": {
   "display_name": "Python 3",
   "language": "python",
   "name": "python3"
  },
  "language_info": {
   "codemirror_mode": {
    "name": "ipython",
    "version": 3
   },
   "file_extension": ".py",
   "mimetype": "text/x-python",
   "name": "python",
   "nbconvert_exporter": "python",
   "pygments_lexer": "ipython3",
   "version": "3.5.0"
  }
 },
 "nbformat": 4,
 "nbformat_minor": 2
}
