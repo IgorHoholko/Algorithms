{
 "cells": [
  {
   "cell_type": "code",
   "execution_count": 273,
   "metadata": {},
   "outputs": [],
   "source": [
    "class Node():\n",
    "    def __init__(self, key):\n",
    "        self.key = key\n",
    "        self.left = None \n",
    "        self.right = None \n",
    "\n",
    "\n",
    "class Tree():\n",
    "    def __init__(self, *args):\n",
    "        self.node = None \n",
    "\n",
    "        if len(args) == 1: \n",
    "            for i in args[0]: \n",
    "                self.insert(i)\n",
    "     \n",
    "    \n",
    "    def __str__(self):\n",
    "        return self.display()\n",
    "    \n",
    "    \n",
    "    def insert(self, key):\n",
    "        tree = self.node\n",
    "        \n",
    "        newnode = Node(key)\n",
    "        \n",
    "        if tree == None:\n",
    "            self.node = newnode \n",
    "            self.node.left = Tree() \n",
    "            self.node.right = Tree()\n",
    "        \n",
    "        elif key < tree.key: \n",
    "            self.node.left.insert(key)\n",
    "            \n",
    "        elif key > tree.key: \n",
    "            self.node.right.insert(key)\n",
    "        \n",
    "\n",
    "    def display(self, level=0, pref=''):\n",
    "        if(self.node != None): \n",
    "            print ('-' * level * 2 , pref, self.node.key )  \n",
    "            if self.node.left != None: \n",
    "                self.node.left.display(level + 1, '<')\n",
    "            if self.node.left != None:\n",
    "                self.node.right.display(level + 1, '>')   \n",
    "            \n",
    "            \n",
    "    def rrotate(self):\n",
    "        # Rotate left pivoting on self\n",
    "        print ('Rotating ' + str(self.node.key) + ' right') \n",
    "        A = self.node \n",
    "        B = self.node.left.node \n",
    "        T = B.right.node \n",
    "        \n",
    "        self.node = B \n",
    "        B.right.node = A \n",
    "        A.left.node = T \n",
    "\n",
    "    \n",
    "    def lrotate(self):\n",
    "        # Rotate left pivoting on self\n",
    "        debug ('Rotating ' + str(self.node.key) + ' left') \n",
    "        A = self.node \n",
    "        B = self.node.right.node \n",
    "        T = B.left.node \n",
    "        \n",
    "        self.node = B \n",
    "        B.left.node = A \n",
    "        A.right.node = T "
   ]
  },
  {
   "cell_type": "code",
   "execution_count": 283,
   "metadata": {},
   "outputs": [],
   "source": [
    "a = Tree([17,66,56])\n",
    "\n",
    "\n",
    "inlist = [5, 6, 5, 8, 3, 77, 55, 66, 88, 99, 111, 0]\n",
    "for i in inlist: \n",
    "    a.insert(i)"
   ]
  },
  {
   "cell_type": "code",
   "execution_count": 284,
   "metadata": {},
   "outputs": [
    {
     "name": "stdout",
     "output_type": "stream",
     "text": [
      "  17\n",
      "-- < 5\n",
      "---- < 3\n",
      "------ < 0\n",
      "---- > 6\n",
      "------ > 8\n",
      "-- > 66\n",
      "---- < 56\n",
      "------ < 55\n",
      "---- > 77\n",
      "------ > 88\n",
      "-------- > 99\n",
      "---------- > 111\n"
     ]
    }
   ],
   "source": [
    "a.display()"
   ]
  },
  {
   "cell_type": "code",
   "execution_count": 286,
   "metadata": {},
   "outputs": [
    {
     "name": "stdout",
     "output_type": "stream",
     "text": [
      "Rotating 17 right\n"
     ]
    }
   ],
   "source": [
    "a.rrotate()"
   ]
  },
  {
   "cell_type": "code",
   "execution_count": 287,
   "metadata": {},
   "outputs": [
    {
     "name": "stdout",
     "output_type": "stream",
     "text": [
      "  5\n",
      "-- < 3\n",
      "---- < 0\n",
      "-- > 17\n",
      "---- < 6\n",
      "------ > 8\n",
      "---- > 66\n",
      "------ < 56\n",
      "-------- < 55\n",
      "------ > 77\n",
      "-------- > 88\n",
      "---------- > 99\n",
      "------------ > 111\n"
     ]
    }
   ],
   "source": [
    "a.display()"
   ]
  },
  {
   "cell_type": "code",
   "execution_count": 288,
   "metadata": {},
   "outputs": [],
   "source": [
    "a.lrotate()"
   ]
  },
  {
   "cell_type": "code",
   "execution_count": 289,
   "metadata": {},
   "outputs": [
    {
     "name": "stdout",
     "output_type": "stream",
     "text": [
      "  17\n",
      "-- < 5\n",
      "---- < 3\n",
      "------ < 0\n",
      "---- > 6\n",
      "------ > 8\n",
      "-- > 66\n",
      "---- < 56\n",
      "------ < 55\n",
      "---- > 77\n",
      "------ > 88\n",
      "-------- > 99\n",
      "---------- > 111\n"
     ]
    }
   ],
   "source": [
    "a.display()"
   ]
  },
  {
   "cell_type": "code",
   "execution_count": null,
   "metadata": {},
   "outputs": [],
   "source": []
  }
 ],
 "metadata": {
  "kernelspec": {
   "display_name": "Python 3",
   "language": "python",
   "name": "python3"
  },
  "language_info": {
   "codemirror_mode": {
    "name": "ipython",
    "version": 3
   },
   "file_extension": ".py",
   "mimetype": "text/x-python",
   "name": "python",
   "nbconvert_exporter": "python",
   "pygments_lexer": "ipython3",
   "version": "3.6.5"
  }
 },
 "nbformat": 4,
 "nbformat_minor": 2
}
