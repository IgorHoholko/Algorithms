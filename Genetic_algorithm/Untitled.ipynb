{
 "cells": [
  {
   "cell_type": "code",
   "execution_count": 127,
   "metadata": {},
   "outputs": [],
   "source": [
    "import numpy as np\n",
    "import os\n",
    "import pandas as pd\n",
    "from pandas_ods_reader import read_ods\n",
    "\n",
    "from copy import deepcopy\n",
    "\n",
    "data_path = 'equation_genetic.csv'\n",
    "VARIANT = 0"
   ]
  },
  {
   "cell_type": "code",
   "execution_count": 279,
   "metadata": {},
   "outputs": [],
   "source": [
    "class Function:\n",
    "    def __init__(self, variant, path, absolute = True):\n",
    "        self.variant = variant\n",
    "        self.path = path\n",
    "        self.func_str = self._get_function_str()\n",
    "        self.absolute = absolute\n",
    "        \n",
    "        self.variables = [v for v in list(set(self.func_str)) if v.isalpha() ]\n",
    "#         self.evaluate = np.vectorize(self.evaluate)\n",
    "\n",
    "    def _get_function_str(self):\n",
    "        f_str = \"u^powU * w^powW * x^powX * y^powY * z^powZ + u^powU1 * w^powW1 * x^powX1 * y^powY1 * z^powZ1 + u^powU2 * w^powW2 * x^powX2 * y^powY2 * z^powZ2 + u^powU3 * w^powW3 * x^powX3 * y^powY3 * z^powZ3 + u^powU4 * w^powW4 * x^powX4 * y^powY4 * z^powZ4 = Result\"\n",
    "        df = pd.read_csv(self.path)\n",
    "        self.data = df\n",
    "        variables = list(df.columns.values)\n",
    "\n",
    "        for var in variables:\n",
    "            key = var.replace(\" \", \"\")\n",
    "            key = key[0].lower() + key[1:] if key[0] is not 'R' else key\n",
    "            value = df[var][self.variant]\n",
    "            f_str = re.sub(r\"\\b{}\\b\".format(key),str(value) ,f_str)\n",
    "\n",
    "        f_str = f_str.replace('^', '**')\n",
    "        f_str = f_str.replace(' ', '')\n",
    "        \n",
    "        sign = f_str[ f_str.index('=') + 1 ]\n",
    "        replace_to = ['=-', '+'] if sign is '-' else ['=', '-'] \n",
    "        f_str = f_str.replace(replace_to[0], replace_to[1])\n",
    "        \n",
    "        \n",
    "        return f_str\n",
    "    \n",
    "    def get_pairs(self, features):\n",
    "        result = {}\n",
    "        for value, var_name in zip(features, self.variables):\n",
    "            result[var_name] = value\n",
    "        return result\n",
    "    \n",
    "    \n",
    "    def evaluate(self, features):\n",
    "        f = self.func_str\n",
    "        \"\"\"\n",
    "            params: dict\n",
    "                u, w, x, y, z\n",
    "        \"\"\"\n",
    "\n",
    "        if len(features.shape) == 1:\n",
    "            for value, var_name in zip(features, self.variables):\n",
    "                f = f.replace(var_name, str(value))\n",
    "            y = eval(f)\n",
    "            y = abs(y) if self.absolute else y\n",
    "            return eval(f)  \n",
    "        \n",
    "        elif len(features.shape) == 2:\n",
    "            out = []\n",
    "            for line in features:\n",
    "                f = self.func_str\n",
    "                for value, var_name in zip(line, self.variables):\n",
    "#                     print(f, value, var_name)\n",
    "                    f = f.replace(var_name, str(value))\n",
    "                y = eval(f)\n",
    "                y = abs(y) if self.absolute else y\n",
    "                out.append(y)  \n",
    "            return np.array(out)\n",
    "        else:\n",
    "            raise('Something is going wrong :(')\n",
    "        \n",
    "        \n",
    "\n",
    "    \n",
    "    "
   ]
  },
  {
   "cell_type": "code",
   "execution_count": 401,
   "metadata": {},
   "outputs": [],
   "source": [
    "from joblib import Parallel, delayed\n",
    "from math import sqrt\n",
    "\n",
    "\n",
    "def sort_a_by_b(A,B):\n",
    "    return np.array([a for _,a in sorted(zip(B,A))])\n",
    "\n",
    "class Genetic:\n",
    "    def __init__(self, n_features, population_size, init_bounds, epochs = 10_000):\n",
    "        self.epochs = epochs\n",
    "        self.n_features = n_features\n",
    "        self.X = np.random.uniform(*init_bounds, [population_size, n_features])\n",
    "        print(f'X.shape: {self.X.shape}')\n",
    "    \n",
    "    def fit(self, func_to_optimize, selection = \"Turnir\", select_rate = .5, single_crossing = True,\\\n",
    "           p_mutation = .05):\n",
    "        self.select_rate = select_rate\n",
    "        self.func = func_to_optimize\n",
    "        self.single_crossing = single_crossing\n",
    "        self.p_mutation = p_mutation\n",
    "        \n",
    "        X = self.X\n",
    "        \n",
    "        self._fit(X)\n",
    "        \n",
    "    def _fit(self, X):\n",
    "        for _ in range(self.epochs):\n",
    "            X = self._select(X)\n",
    "            X = self._cross(X)\n",
    "            X = self._mutation(X)\n",
    "\n",
    "        \n",
    "    def _select(self, X):\n",
    "        selected_num = int(X.shape[0] * self.select_rate)\n",
    "        y = self.func.evaluate(X)\n",
    "        idxs_X = np.arange(X.shape[0])\n",
    "        idxs_X_sorted = sort_a_by_b(idxs_X, y)\n",
    "        \n",
    "        X = X[idxs_X_sorted]\n",
    "        X = X[:selected_num]\n",
    "        return X[:]\n",
    "    \n",
    "    def _cross(self, X):\n",
    "        \"\"\"\n",
    "        Одноточечная (в третьем гене) + многоточечная (во втором и четвертом гене)\n",
    "        \"\"\"\n",
    "        n = X.shape[0]\n",
    "        pairs = [(p1, p2) for p1 in np.arange(n) for p2 in np.arange(p1+1,n)]\n",
    "        \n",
    "        children  = []\n",
    "        if self.single_crossing:\n",
    "            switch = 3 - 1\n",
    "            for i, j in pairs:\n",
    "                x1 = np.append(X[i][:switch], X[j][switch:])\n",
    "                x2 = np.append(X[i][switch:], X[j][:switch])\n",
    "                children.append(x1)\n",
    "                children.append(x2)\n",
    "                \n",
    "        return np.array(children)\n",
    "    \n",
    "    def _mutation(self, X):\n",
    "        \"\"\"Каждый бит всех потомков мутирует с некоторой вероятностью p\"\"\"\n",
    "        def _irradiate(x):\n",
    "            x_ = np.empty_like(x)\n",
    "            for i in range(self.n_features):\n",
    "                k =  np.random.uniform()\n",
    "                if self.p_mutation >= k:\n",
    "                    x_[i] = np.random.uniform(-2000, 2000)\n",
    "                else:\n",
    "                    x_[i] = x[i]\n",
    "            return x_\n",
    "        \n",
    "        print(np.sum(X))\n",
    "        new_X = []\n",
    "        for x in X:\n",
    "            x_ = _irradiate(x)\n",
    "            new_X.append(x_)\n",
    "        new_X = np.array(new_X)\n",
    "        return new_X\n",
    "        \n",
    "    \n",
    "        \n",
    "        "
   ]
  },
  {
   "cell_type": "code",
   "execution_count": 402,
   "metadata": {},
   "outputs": [
    {
     "name": "stdout",
     "output_type": "stream",
     "text": [
      "X.shape: (100, 5)\n"
     ]
    }
   ],
   "source": [
    "box = Genetic(n_features=5, population_size= 100, init_bounds=[-100, 100], epochs=1)"
   ]
  },
  {
   "cell_type": "code",
   "execution_count": 403,
   "metadata": {},
   "outputs": [
    {
     "name": "stdout",
     "output_type": "stream",
     "text": [
      "-43372.3405185438\n",
      "-43372.3405185438 75192.66221146466\n"
     ]
    }
   ],
   "source": [
    "box.fit(func, p_mutation=.5)"
   ]
  },
  {
   "cell_type": "code",
   "execution_count": 289,
   "metadata": {},
   "outputs": [
    {
     "name": "stdout",
     "output_type": "stream",
     "text": [
      "0 1\n",
      "0 2\n",
      "0 3\n",
      "0 4\n",
      "1 2\n",
      "1 3\n",
      "1 4\n",
      "2 3\n",
      "2 4\n",
      "3 4\n"
     ]
    }
   ],
   "source": [
    "a = np.arange(5)\n",
    "for i, j in [(p1, p2) for p1 in np.arange(5) for p2 in np.arange(p1+1,5)]:\n",
    "    print(i, j)"
   ]
  },
  {
   "cell_type": "code",
   "execution_count": 290,
   "metadata": {},
   "outputs": [],
   "source": [
    "a = np.random.randint(0,5,(5,5))"
   ]
  },
  {
   "cell_type": "code",
   "execution_count": 308,
   "metadata": {},
   "outputs": [
    {
     "data": {
      "text/plain": [
       "0.791202472008808"
      ]
     },
     "execution_count": 308,
     "metadata": {},
     "output_type": "execute_result"
    }
   ],
   "source": [
    "np.random.uniform()"
   ]
  },
  {
   "cell_type": "code",
   "execution_count": 294,
   "metadata": {},
   "outputs": [
    {
     "data": {
      "text/plain": [
       "array([4, 3, 0, 2, 3])"
      ]
     },
     "execution_count": 294,
     "metadata": {},
     "output_type": "execute_result"
    }
   ],
   "source": [
    "np.append(a[0][:2], a[1][2:])"
   ]
  },
  {
   "cell_type": "code",
   "execution_count": 298,
   "metadata": {},
   "outputs": [
    {
     "data": {
      "text/plain": [
       "[0.0, 1.0, 2.0, 3.0, 4.0, 5.0, 6.0, 7.0, 8.0, 9.0]"
      ]
     },
     "execution_count": 298,
     "metadata": {},
     "output_type": "execute_result"
    }
   ],
   "source": [
    "from joblib import Parallel, delayed\n",
    "from math import sqrt\n",
    "Parallel(n_jobs=1)(delayed(sqrt)(i**2) for i in range(10))"
   ]
  },
  {
   "cell_type": "code",
   "execution_count": 297,
   "metadata": {},
   "outputs": [
    {
     "name": "stdout",
     "output_type": "stream",
     "text": [
      "Collecting joblib\n",
      "  Downloading https://files.pythonhosted.org/packages/cd/c1/50a758e8247561e58cb87305b1e90b171b8c767b15b12a1734001f41d356/joblib-0.13.2-py2.py3-none-any.whl (278kB)\n",
      "Installing collected packages: joblib\n",
      "Successfully installed joblib-0.13.2\n"
     ]
    }
   ],
   "source": [
    "!pip install joblib"
   ]
  },
  {
   "cell_type": "code",
   "execution_count": null,
   "metadata": {},
   "outputs": [],
   "source": []
  }
 ],
 "metadata": {
  "kernelspec": {
   "display_name": "Python 3",
   "language": "python",
   "name": "python3"
  },
  "language_info": {
   "codemirror_mode": {
    "name": "ipython",
    "version": 3
   },
   "file_extension": ".py",
   "mimetype": "text/x-python",
   "name": "python",
   "nbconvert_exporter": "python",
   "pygments_lexer": "ipython3",
   "version": "3.7.1"
  }
 },
 "nbformat": 4,
 "nbformat_minor": 2
}
