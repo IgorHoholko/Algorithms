{
 "cells": [
  {
   "cell_type": "code",
   "execution_count": 1,
   "metadata": {},
   "outputs": [],
   "source": [
    "# -*- coding: utf-8 -*-\n",
    "import numpy as np\n",
    "import sys\n",
    "import time"
   ]
  },
  {
   "cell_type": "code",
   "execution_count": null,
   "metadata": {},
   "outputs": [],
   "source": [
    "def merge_sort(A):\n",
    "    merge_sort2(A, 0, len(A)-1)\n",
    "\n",
    "def merge_sort2(A, first, last):\n",
    "    if first < last:\n",
    "        middle = (first + last)//2\n",
    "        merge_sort2(A, first, middle)\n",
    "        merge_sort2(A, middle+1, last)\n",
    "        merge(A, first, middle, last)\n",
    "\n",
    "def merge(A, first, middle, last):\n",
    "    L = A[first:middle+1]\n",
    "    R = A[middle+1:last+1]\n",
    "    L.append(sys.maxsize)\n",
    "    R.append(sys.maxsize)\n",
    "    i = j = 0\n",
    "\n",
    "    for k in range (first, last+1):\n",
    "        if L[i] <= R[j]:\n",
    "            A[k] = L[i]\n",
    "            i += 1\n",
    "        else:\n",
    "            A[k] = R[j]\n",
    "            j += 1"
   ]
  },
  {
   "cell_type": "code",
   "execution_count": 2,
   "metadata": {},
   "outputs": [],
   "source": [
    "threshold = 100; hybrid_sort = True\n",
    "def quick_sort(A):\n",
    "    quick_sort2(A, 0, len(A)-1)\n",
    "\n",
    "def quick_sort2(A, low, hi):\n",
    "    if hi-low < threshold and low < hi and hybrid_sort:\n",
    "        quick_selection(A, low, hi)\n",
    "        \n",
    "    elif low < hi:\n",
    "        p = partition(A, low, hi)\n",
    "        quick_sort2(A, low, p - 1)\n",
    "        quick_sort2(A, p + 1, hi)\n",
    "\n",
    "def partition(A, low, hi):\n",
    "    pivotIndex = get_pivot(A, low, hi)\n",
    "    pivotValue = A[pivotIndex]\n",
    "    A[pivotIndex], A[low] = A[low], A[pivotIndex]\n",
    "    border = low\n",
    "\n",
    "    for i in range(low, hi+1):\n",
    "        if A[i] < pivotValue:\n",
    "            border += 1\n",
    "            A[i], A[border] = A[border], A[i]\n",
    "    A[low], A[border] = A[border], A[low]\n",
    "\n",
    "    return (border)\n",
    "\n",
    "\n",
    "def get_pivot(A, low, hi):\n",
    "    mid = (hi + low) // 2\n",
    "    s = sorted([A[low], A[mid], A[hi]])\n",
    "    if s[1] == A[low]:\n",
    "        return low\n",
    "    elif s[1] == A[mid]:\n",
    "        return mid\n",
    "    return hi\n",
    "\n",
    "\n",
    "def quick_selection(x, first, last):\n",
    "    for i in range (first, last):\n",
    "        minIndex = i\n",
    "        for j in range (i+1, last+1):\n",
    "            if x[j] < x[minIndex]:\n",
    "                minIndex = j\n",
    "        if minIndex != i:\n",
    "            x[i], x[minIndex] = x[minIndex], x[i]"
   ]
  },
  {
   "cell_type": "code",
   "execution_count": null,
   "metadata": {},
   "outputs": [],
   "source": []
  }
 ],
 "metadata": {
  "kernelspec": {
   "display_name": "Python 3",
   "language": "python",
   "name": "python3"
  },
  "language_info": {
   "codemirror_mode": {
    "name": "ipython",
    "version": 3
   },
   "file_extension": ".py",
   "mimetype": "text/x-python",
   "name": "python",
   "nbconvert_exporter": "python",
   "pygments_lexer": "ipython3",
   "version": "3.6.5"
  }
 },
 "nbformat": 4,
 "nbformat_minor": 2
}
