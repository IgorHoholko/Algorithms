{
 "cells": [
  {
   "cell_type": "code",
   "execution_count": 1,
   "metadata": {},
   "outputs": [],
   "source": [
    "from hashTableChains import Hash_tbl_chains\n",
    "from hashTableOpenAdressing import Hash_tbl_open_adressing\n",
    "from math import sqrt"
   ]
  },
  {
   "cell_type": "code",
   "execution_count": 3,
   "metadata": {},
   "outputs": [],
   "source": [
    "def fill_table(table):\n",
    "    table.add( (54, \"Ihar\"), (87, \"Rafic\"),(54, \"Ihar\"), (87, \"Rafic\"), (57, \"Alex\"), (56, 'Iva') )\n",
    "    table.add( (8, \"Arnold\"))\n",
    "    table.add ((1, \"ADS\"), (9879, 'asdasd'))\n",
    "    table.add((5, 'apsd'))"
   ]
  },
  {
   "cell_type": "code",
   "execution_count": 4,
   "metadata": {},
   "outputs": [],
   "source": [
    "table_ch = Hash_tbl_chains(8)\n",
    "table_adr = Hash_tbl_open_adressing(8)"
   ]
  },
  {
   "cell_type": "code",
   "execution_count": 7,
   "metadata": {},
   "outputs": [],
   "source": [
    "fill_table(table_ch)\n",
    "fill_table(table_adr)"
   ]
  },
  {
   "cell_type": "code",
   "execution_count": 9,
   "metadata": {},
   "outputs": [
    {
     "name": "stdout",
     "output_type": "stream",
     "text": [
      "9879 : asdasd    \n",
      "56 : Iva    1 : ADS    \n",
      "54 : Ihar    57 : Alex    \n",
      "5 : apsd    \n",
      "8 : Arnold    \n",
      "87 : Rafic    \n",
      "\n",
      "\n",
      "\n",
      "9879 : asdasd    \n",
      "5 : apsd    \n",
      "56 : Iva    \n",
      "1 : ADS    \n",
      "54 : Ihar    \n",
      "57 : Alex    \n",
      "8 : Arnold    \n",
      "87 : Rafic    \n"
     ]
    }
   ],
   "source": [
    "table_ch.print()\n",
    "print('\\n\\n')\n",
    "table_adr.print()"
   ]
  },
  {
   "cell_type": "code",
   "execution_count": 11,
   "metadata": {},
   "outputs": [
    {
     "name": "stdout",
     "output_type": "stream",
     "text": [
      "ADS\n",
      "ADS\n"
     ]
    }
   ],
   "source": [
    "print(table_adr.get(1))\n",
    "print(table_ch.get(1))"
   ]
  },
  {
   "cell_type": "code",
   "execution_count": 12,
   "metadata": {},
   "outputs": [
    {
     "data": {
      "text/plain": [
       "True"
      ]
     },
     "execution_count": 12,
     "metadata": {},
     "output_type": "execute_result"
    }
   ],
   "source": [
    "table_adr.delete(1)\n",
    "table_ch.delete(1)"
   ]
  },
  {
   "cell_type": "code",
   "execution_count": 13,
   "metadata": {},
   "outputs": [
    {
     "name": "stdout",
     "output_type": "stream",
     "text": [
      "9879 : asdasd    \n",
      "56 : Iva    \n",
      "54 : Ihar    57 : Alex    \n",
      "5 : apsd    \n",
      "8 : Arnold    \n",
      "87 : Rafic    \n",
      "\n",
      "\n",
      "\n",
      "9879 : asdasd    \n",
      "5 : apsd    \n",
      "56 : Iva    \n",
      "\n",
      "54 : Ihar    \n",
      "57 : Alex    \n",
      "8 : Arnold    \n",
      "87 : Rafic    \n"
     ]
    }
   ],
   "source": [
    "table_ch.print()\n",
    "print('\\n\\n')\n",
    "table_adr.print()"
   ]
  },
  {
   "cell_type": "code",
   "execution_count": 8,
   "metadata": {},
   "outputs": [
    {
     "data": {
      "text/plain": [
       "54.0"
      ]
     },
     "execution_count": 8,
     "metadata": {},
     "output_type": "execute_result"
    }
   ],
   "source": [
    "54.0 % 690.3439654336327"
   ]
  }
 ],
 "metadata": {
  "kernelspec": {
   "display_name": "Python 3",
   "language": "python",
   "name": "python3"
  },
  "language_info": {
   "codemirror_mode": {
    "name": "ipython",
    "version": 3
   },
   "file_extension": ".py",
   "mimetype": "text/x-python",
   "name": "python",
   "nbconvert_exporter": "python",
   "pygments_lexer": "ipython3",
   "version": "3.6.5"
  }
 },
 "nbformat": 4,
 "nbformat_minor": 2
}
