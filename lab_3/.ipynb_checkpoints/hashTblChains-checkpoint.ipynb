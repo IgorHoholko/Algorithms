{
 "cells": [
  {
   "cell_type": "code",
   "execution_count": 17,
   "metadata": {},
   "outputs": [],
   "source": [
    "from hashTableChains import Hash_tbl_chains\n",
    "from hashTableOpenAdressing import Hash_tbl_open_adressing\n",
    "from math import sqrt"
   ]
  },
  {
   "cell_type": "code",
   "execution_count": 121,
   "metadata": {},
   "outputs": [],
   "source": [
    "table = Hash_tbl_open_adressing(8)\n",
    "table.add( (54, \"Ihar\"), (87, \"Rafic\"),(54, \"Ihar\"), (87, \"Rafic\"), (57, \"Alex\"), (56, 'Iva') )\n",
    "table.add( (8, \"Arnold\"))\n",
    "table.add ((1, \"ADS\"), (9879, 'asdasd'))\n",
    "table.add((5, 'apsd'))"
   ]
  },
  {
   "cell_type": "code",
   "execution_count": 122,
   "metadata": {},
   "outputs": [
    {
     "name": "stdout",
     "output_type": "stream",
     "text": [
      "9879 : asdasd    \n",
      "5 : apsd    \n",
      "56 : Iva    \n",
      "1 : ADS    \n",
      "54 : Ihar    \n",
      "57 : Alex    \n",
      "8 : Arnold    \n",
      "87 : Rafic    \n"
     ]
    }
   ],
   "source": [
    "table.print()"
   ]
  },
  {
   "cell_type": "code",
   "execution_count": 123,
   "metadata": {},
   "outputs": [
    {
     "data": {
      "text/plain": [
       "'ADS'"
      ]
     },
     "execution_count": 123,
     "metadata": {},
     "output_type": "execute_result"
    }
   ],
   "source": [
    "table.get(1)"
   ]
  },
  {
   "cell_type": "code",
   "execution_count": 119,
   "metadata": {},
   "outputs": [],
   "source": [
    "table.delete(5)"
   ]
  },
  {
   "cell_type": "code",
   "execution_count": 92,
   "metadata": {},
   "outputs": [],
   "source": [
    "table = Hash_tbl_chains(8)\n",
    "table.add( (54, \"Ihar\"), (87, \"Rafic\"),(54, \"Ihar\"), (87, \"Rafic\"), (57, \"Alex\"), (56, 'Iva') )\n",
    "table.add( (8, \"Arnold\"))\n",
    "table.add ((1, \"ADS\"), (9879, 'asdasd'))\n",
    "table.add((5, 'apsd'))"
   ]
  },
  {
   "cell_type": "code",
   "execution_count": 78,
   "metadata": {},
   "outputs": [
    {
     "name": "stdout",
     "output_type": "stream",
     "text": [
      "9879 : asdasd    \n",
      "56 : Iva    1 : ADS    \n",
      "54 : Ihar    57 : Alex    \n",
      "5 : apsd    \n",
      "8 : Arnold    \n",
      "87 : Rafic    \n"
     ]
    }
   ],
   "source": [
    "table.print()"
   ]
  },
  {
   "cell_type": "code",
   "execution_count": 6,
   "metadata": {},
   "outputs": [
    {
     "data": {
      "text/plain": [
       "True"
      ]
     },
     "execution_count": 6,
     "metadata": {},
     "output_type": "execute_result"
    }
   ],
   "source": [
    "table.delete(56)"
   ]
  },
  {
   "cell_type": "code",
   "execution_count": 7,
   "metadata": {},
   "outputs": [
    {
     "name": "stdout",
     "output_type": "stream",
     "text": [
      "9879 : asdasd    \n",
      "1 : ADS    \n",
      "54 : Ihar    57 : Alex    5 : apsd    \n",
      "87 : Rafic    8 : Arnold    \n"
     ]
    }
   ],
   "source": [
    "table.print()"
   ]
  },
  {
   "cell_type": "code",
   "execution_count": 8,
   "metadata": {},
   "outputs": [
    {
     "data": {
      "text/plain": [
       "54.0"
      ]
     },
     "execution_count": 8,
     "metadata": {},
     "output_type": "execute_result"
    }
   ],
   "source": [
    "54.0 % 690.3439654336327"
   ]
  },
  {
   "cell_type": "code",
   "execution_count": null,
   "metadata": {},
   "outputs": [],
   "source": []
  }
 ],
 "metadata": {
  "kernelspec": {
   "display_name": "Python 3",
   "language": "python",
   "name": "python3"
  },
  "language_info": {
   "codemirror_mode": {
    "name": "ipython",
    "version": 3
   },
   "file_extension": ".py",
   "mimetype": "text/x-python",
   "name": "python",
   "nbconvert_exporter": "python",
   "pygments_lexer": "ipython3",
   "version": "3.6.5"
  }
 },
 "nbformat": 4,
 "nbformat_minor": 2
}
