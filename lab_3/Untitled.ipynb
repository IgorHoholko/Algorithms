{
 "cells": [
  {
   "cell_type": "code",
   "execution_count": 2,
   "metadata": {},
   "outputs": [],
   "source": [
    "import numpy as np\n",
    "import random\n",
    "from math import sqrt"
   ]
  },
  {
   "cell_type": "code",
   "execution_count": 3,
   "metadata": {},
   "outputs": [
    {
     "data": {
      "text/plain": [
       "5.0"
      ]
     },
     "execution_count": 3,
     "metadata": {},
     "output_type": "execute_result"
    }
   ],
   "source": [
    "float(5)"
   ]
  },
  {
   "cell_type": "code",
   "execution_count": 73,
   "metadata": {},
   "outputs": [],
   "source": [
    "CONST_KNUT = (sqrt(5) - 1) / 2\n",
    "\n",
    "class Hash_tbl:\n",
    "    def __init__(self, size = 10, K = CONST_KNUT, A = 1117):\n",
    "        self.size = size\n",
    "        self.line = [None]*self.size\n",
    "        self.K = K\n",
    "        self.A = A\n",
    "    \n",
    "    def _get_hash(self, key):\n",
    "        KA = self.K * self.A\n",
    "        kKA = key * KA\n",
    "        kKA = kKA - int(kKA)\n",
    "        return int(kKA * self.size) \n",
    "                \n",
    "        \n",
    "    def add(self, *args):\n",
    "        \"args = (key, value)\"\n",
    "        for key_value in args:\n",
    "            idx = self._get_hash(key_value[0])\n",
    "            if self.line[idx] is None:\n",
    "                self.line[idx] = [list(key_value)]\n",
    "            else:\n",
    "                flag = True\n",
    "                for j in range(len(self.line[idx])):\n",
    "                    if self.line[idx][j][0] == key_value[0]:\n",
    "                        self.line[idx][j][1] = key_value[1]\n",
    "                        flag = False\n",
    "                        break\n",
    "                if flag: \n",
    "                    self.line[idx].append(list(key_value))\n",
    "    \n",
    "    def get(self, key):\n",
    "        idx = self._get_hash(key)\n",
    "        if self.line[idx] is None:\n",
    "            return None\n",
    "        else:\n",
    "            for pair in self.line[idx]:\n",
    "                if pair[0] == key:\n",
    "                    return pair[1]\n",
    "        return None\n",
    "    \n",
    "    def print(self):\n",
    "        \n",
    "        for row in self.line:\n",
    "#             print(row)\n",
    "            if row is not None:\n",
    "                for pair in row:\n",
    "                    print( f\"{pair[0]} : {pair[1]}    \", end=\"\")\n",
    "                print()\n",
    "                \n",
    "        "
   ]
  },
  {
   "cell_type": "code",
   "execution_count": 74,
   "metadata": {},
   "outputs": [],
   "source": [
    "table = Hash_tbl(4)\n",
    "table.add( (54, \"Ihar\"), (87, \"Rafic\"),(54, \"Ihar\"), (87, \"Rafic\"), (57, \"Alex\"), (56, 'Iva') )\n",
    "table.add( (8, \"Arnold\"))\n",
    "table.add ((1, \"ADS\"), (9879, 'asdasd'))\n",
    "table.add((5, 'apsd'))"
   ]
  },
  {
   "cell_type": "code",
   "execution_count": 75,
   "metadata": {},
   "outputs": [
    {
     "name": "stdout",
     "output_type": "stream",
     "text": [
      "9879 : asdasd    \n",
      "56 : Iva    1 : ADS    \n",
      "54 : Ihar    57 : Alex    5 : apsd    \n",
      "87 : Rafic    8 : Arnold    \n"
     ]
    }
   ],
   "source": [
    "table.print()"
   ]
  },
  {
   "cell_type": "code",
   "execution_count": 76,
   "metadata": {},
   "outputs": [
    {
     "data": {
      "text/plain": [
       "'Iva'"
      ]
     },
     "execution_count": 76,
     "metadata": {},
     "output_type": "execute_result"
    }
   ],
   "source": [
    "table.get(56)"
   ]
  },
  {
   "cell_type": "code",
   "execution_count": 26,
   "metadata": {},
   "outputs": [
    {
     "data": {
      "text/plain": [
       "54.0"
      ]
     },
     "execution_count": 26,
     "metadata": {},
     "output_type": "execute_result"
    }
   ],
   "source": [
    "54.0 % 690.3439654336327"
   ]
  },
  {
   "cell_type": "code",
   "execution_count": null,
   "metadata": {},
   "outputs": [],
   "source": []
  }
 ],
 "metadata": {
  "kernelspec": {
   "display_name": "Python 3",
   "language": "python",
   "name": "python3"
  }
 },
 "nbformat": 4,
 "nbformat_minor": 2
}
