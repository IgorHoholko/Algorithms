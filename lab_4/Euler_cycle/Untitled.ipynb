{
 "cells": [
  {
   "cell_type": "code",
   "execution_count": 12,
   "metadata": {},
   "outputs": [],
   "source": [
    "import networkx as nx\n",
    "import matplotlib.pyplot as plt"
   ]
  },
  {
   "cell_type": "code",
   "execution_count": 2,
   "metadata": {},
   "outputs": [],
   "source": [
    "import numpy as np\n",
    "\n",
    "class Graf:\n",
    "    def __init__(self, storage_method = 'list'):\n",
    "        self.stor_method = storage_method\n",
    "        self.list = list()  # adjacency List\n",
    "        self.AM = None    # adjacency Matrix\n",
    "        self.keys_idx = dict()\n",
    "        self.idx_keys = dict()\n",
    "        self.m = 0\n",
    "        self.n = 0\n",
    "      \n",
    "    def _addTo_graf_list(self):\n",
    "            self.list.append([])\n",
    "\n",
    "    \n",
    "    def _addTo_graf_adjM(self):\n",
    "        if self.AM is not None:\n",
    "            self.AM = np.hstack((self.AM, np.zeros((self.AM.shape[0], 1)) ))\n",
    "            self.AM = np.vstack((self.AM, np.zeros((1, self.AM.shape[1])) ))\n",
    "        else:\n",
    "            self.AM = np.zeros((1, 1))\n",
    "\n",
    "    def _addAdjTo_graf_list(self, idx, vertices):\n",
    "        if type(vertices) is not int and type(vertices) is not str:\n",
    "            for v in vertices:\n",
    "                self.list[idx].append(v)\n",
    "        else:\n",
    "            self.list[idx].append(vertices)\n",
    "    \n",
    "    \n",
    "    def _addAdjTo_graf_adjM(self, idx, vertices):\n",
    "        self.AM[idx, vertices] = 1\n",
    "    \n",
    "    def _keys_to_indexis(self, keys):\n",
    "        if type(keys) is tuple:\n",
    "            return [self.keys_idx.get(el) for el in keys]\n",
    "        else:\n",
    "            return self.keys_idx.get(keys)\n",
    "    \n",
    "    \n",
    "    def add_v(self, *args):\n",
    "        for v in args:\n",
    "            self.keys_idx.setdefault(v, self.m)\n",
    "            self.idx_keys.setdefault(self.m, v)\n",
    "            \n",
    "            self._addTo_graf_list()\n",
    "            self._addTo_graf_adjM()\n",
    "            self.m += 1\n",
    "    \n",
    "        \n",
    "    \n",
    "    def add_adj(self, data):\n",
    "        \"\"\" \n",
    "        data: \n",
    "            dict( key_1: (v1, v2, ...), ..., key_k: (v1, v2...) )\n",
    "        where: \n",
    "            - key_i - any vertices in the graf\n",
    "            - {v_n} - the set of some vertices that we want to make adjacent with vertex key_i\n",
    "        \"\"\" \n",
    "        for key in data:\n",
    "            idx = self.keys_idx.get(key)\n",
    "            idxs_adj = self._keys_to_indexis(data[key])\n",
    "            \n",
    "            self._addAdjTo_graf_list(idx, idxs_adj)\n",
    "            self._addAdjTo_graf_adjM(idx, idxs_adj)\n",
    "        \n",
    "    def print(self):\n",
    "        for i, row in enumerate(self.list):\n",
    "            print(self.idx_keys.get(i), ' : ', tuple([self.idx_keys.get(k) for k in row]))\n",
    "        \n",
    "            \n",
    "    def set_dictance(self, points, dictances):\n",
    "        pass\n",
    "    \n",
    "    def remove_v(self, *args):\n",
    "        pass\n",
    "    \n",
    "    def remove_adj(self, *args):\n",
    "        pass\n",
    "    "
   ]
  },
  {
   "cell_type": "code",
   "execution_count": 150,
   "metadata": {},
   "outputs": [],
   "source": [
    "G = Graf()\n",
    "G.add_v(1, 'My', 3, 4, 5)\n",
    "G.add_adj({1: ('My', 3), 'My': (1, 3), 3 : (1, 'My', 4, 5), 5: 3, 4: 3})"
   ]
  },
  {
   "cell_type": "code",
   "execution_count": 167,
   "metadata": {},
   "outputs": [],
   "source": [
    "na = { 0:'1', 1:'My', 2:'3', 3:'4', 4:'5'}"
   ]
  },
  {
   "cell_type": "code",
   "execution_count": 192,
   "metadata": {},
   "outputs": [
    {
     "data": {
      "image/png": "[encoded data removed]",
      "text/plain": [
       "<Figure size 432x288 with 1 Axes>"
      ]
     },
     "metadata": {},
     "output_type": "display_data"
    }
   ],
   "source": [
    "K=nx.Graph(G.AM)\n",
    "nx.draw(K, labels = na, font_size= 15, node_size=1000, node_color='black', font_color='w', font_weight='bold')"
   ]
  },
  {
   "cell_type": "code",
   "execution_count": 155,
   "metadata": {},
   "outputs": [
    {
     "data": {
      "text/plain": [
       "array([[0., 1., 1., 0., 0.],\n",
       "       [1., 0., 1., 0., 0.],\n",
       "       [1., 1., 0., 1., 1.],\n",
       "       [0., 0., 1., 0., 0.],\n",
       "       [0., 0., 1., 0., 0.]])"
      ]
     },
     "execution_count": 155,
     "metadata": {},
     "output_type": "execute_result"
    }
   ],
   "source": [
    "G.AM"
   ]
  },
  {
   "cell_type": "code",
   "execution_count": 386,
   "metadata": {},
   "outputs": [
    {
     "name": "stdout",
     "output_type": "stream",
     "text": [
      "1  :  ('My', 3)\n",
      "My  :  (1, 3)\n",
      "3  :  (1, 'My', 4, 5)\n",
      "4  :  (3,)\n",
      "5  :  (3,)\n"
     ]
    }
   ],
   "source": [
    "G.print()"
   ]
  },
  {
   "cell_type": "code",
   "execution_count": null,
   "metadata": {},
   "outputs": [],
   "source": []
  }
 ],
 "metadata": {
  "kernelspec": {
   "display_name": "Python 3",
   "language": "python",
   "name": "python3"
  },
  "language_info": {
   "codemirror_mode": {
    "name": "ipython",
    "version": 3
   },
   "file_extension": ".py",
   "mimetype": "text/x-python",
   "name": "python",
   "nbconvert_exporter": "python",
   "pygments_lexer": "ipython3",
   "version": "3.6.5"
  }
 },
 "nbformat": 4,
 "nbformat_minor": 2
}
