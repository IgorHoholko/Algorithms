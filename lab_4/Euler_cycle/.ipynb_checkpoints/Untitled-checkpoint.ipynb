{
 "cells": [
  {
   "cell_type": "code",
   "execution_count": 1,
   "metadata": {},
   "outputs": [],
   "source": [
    "import networkx as nx\n",
    "import matplotlib.pyplot as plt"
   ]
  },
  {
   "cell_type": "code",
   "execution_count": 115,
   "metadata": {},
   "outputs": [],
   "source": [
    "import numpy as np\n",
    "\n",
    "class Graf:\n",
    "    def __init__(self, params_drawing = {}, storage_method = 'list'):\n",
    "        self.stor_method = storage_method\n",
    "        self.list = list()  # adjacency List\n",
    "        self.AM = None    # adjacency Matrix\n",
    "        self.keys_idx = dict()\n",
    "        self.idx_keys = dict()\n",
    "        self.params_drawing = {'font_size': 15, 'node_size' : 1000, 'node_color' : 'black', 'font_color' : 'w', 'font_weight': 'bold'}\n",
    "        self.m = 0\n",
    "        self.n = 0\n",
    "        \n",
    "        self.params_drawing.update(params_drawing)\n",
    "#         print(kwards)\n",
    "        print(self.params_drawing)\n",
    "      \n",
    "    def _addTo_graf_list(self):\n",
    "            self.list.append([])\n",
    "\n",
    "    \n",
    "    def _addTo_graf_matrix(self):\n",
    "        if self.AM is not None:\n",
    "            self.AM = np.hstack((self.AM, np.zeros((self.AM.shape[0], 1)) ))\n",
    "            self.AM = np.vstack((self.AM, np.zeros((1, self.AM.shape[1])) ))\n",
    "        else:\n",
    "            self.AM = np.zeros((1, 1))\n",
    "\n",
    "            \n",
    "    def _add_adj_to_list(self, idx, vertices):\n",
    "        if type(vertices) is not int and type(vertices) is not str:\n",
    "            for v in vertices:\n",
    "                flag = True\n",
    "                for el in self.list[idx]:\n",
    "                    if v == el:\n",
    "                        flag = False\n",
    "                        break\n",
    "                if flag:\n",
    "                    self.list[idx].append(v)\n",
    "                \n",
    "            flag = True\n",
    "            for v in vertices:\n",
    "                flag = True\n",
    "                for el in self.list[v]:\n",
    "                    if el == idx:\n",
    "                        flag = False\n",
    "                        break\n",
    "                if flag:\n",
    "                    self.list[v].append(idx)     \n",
    "        else:\n",
    "            for el in self.list[idx]:\n",
    "                flag = True\n",
    "                if vertices == el:\n",
    "                    flag = False\n",
    "                    break\n",
    "            if flag: \n",
    "                self.list[idx].append(v)\n",
    "            for el in self.list[vertices]:\n",
    "                if idx == el:\n",
    "                    flag = False\n",
    "                    break\n",
    "            if flag:\n",
    "                self.list[vertices].append(idx)\n",
    "            \n",
    "    \n",
    "    \n",
    "    def _add_adj_to_matrix(self, idx, vertices):\n",
    "        self.AM[idx, vertices] = 1\n",
    "        self.AM[idx, vertices] = 1\n",
    "        \n",
    "    \n",
    "    def _keys_to_indexis(self, keys):\n",
    "        if type(keys) is tuple:\n",
    "            return [self.keys_idx.get(el) for el in keys]\n",
    "        else:\n",
    "            return self.keys_idx.get(keys)\n",
    "    \n",
    "    \n",
    "    def add_v(self, *args):\n",
    "        for v in args:\n",
    "            self.keys_idx.setdefault(v, self.n)\n",
    "            self.idx_keys.setdefault(self.n, v)\n",
    "            \n",
    "            self._addTo_graf_list()\n",
    "            self._addTo_graf_matrix()\n",
    "            self.n += 1\n",
    "    \n",
    "        \n",
    "    \n",
    "    def add_adj(self, data):\n",
    "        \"\"\" \n",
    "        data: \n",
    "            dict( key_1: (v1, v2, ...), ..., key_k: (v1, v2...) )\n",
    "        where: \n",
    "            - key_i - any vertices in the graf\n",
    "            - {v_n} - the set of some vertices that we want to make adjacent with vertex key_i\n",
    "        \"\"\" \n",
    "        for key in data:\n",
    "            idx = self.keys_idx.get(key)\n",
    "            idxs_adj = self._keys_to_indexis(data[key])\n",
    "            \n",
    "            self._add_adj_to_list(idx, idxs_adj)\n",
    "            self._add_adj_to_matrix(idx, idxs_adj)\n",
    "        \n",
    "    def print(self):\n",
    "        for i, row in enumerate(self.list):\n",
    "            print(self.idx_keys.get(i), ' : ', tuple([self.idx_keys.get(k) for k in row]))\n",
    "    \n",
    "    def draw(self):\n",
    "        K=nx.Graph(self.AM)\n",
    "        nx.draw(K, labels = self.idx_keys, font_size= self.params_drawing.get('font_size'),\\\n",
    "                node_size=self.params_drawing.get('node_size'), node_color=self.params_drawing.get('node_color'),\n",
    "                font_color=self.params_drawing.get('font_color'), font_weight=self.params_drawing.get('font_weight'))\n",
    "        \n",
    "            \n",
    "    def set_dictance(self, points, dictances):\n",
    "        pass\n",
    "    \n",
    "    def remove_v(self, *args):\n",
    "        pass\n",
    "    \n",
    "    def remove_adj(self, *args):\n",
    "        pass\n",
    "    "
   ]
  },
  {
   "cell_type": "code",
   "execution_count": 116,
   "metadata": {},
   "outputs": [
    {
     "name": "stdout",
     "output_type": "stream",
     "text": [
      "{'font_size': 15, 'node_size': 1000, 'node_color': 'yellow', 'font_color': 'b', 'font_weight': 'bold'}\n"
     ]
    }
   ],
   "source": [
    "G = Graf({'node_color': 'yellow', 'font_color': 'b'})\n",
    "G.add_v('Root', 'A', 'B', 'C', 'D', 'E', 'F')\n",
    "G.add_adj({'Root' : ('A', 'B', 'C', 'D', 'E', 'F')})"
   ]
  },
  {
   "cell_type": "code",
   "execution_count": 117,
   "metadata": {},
   "outputs": [
    {
     "data": {
      "image/png": "[encoded data removed]",
      "text/plain": [
       "<Figure size 432x288 with 1 Axes>"
      ]
     },
     "metadata": {},
     "output_type": "display_data"
    }
   ],
   "source": [
    "G.draw()"
   ]
  },
  {
   "cell_type": "code",
   "execution_count": 118,
   "metadata": {},
   "outputs": [
    {
     "name": "stdout",
     "output_type": "stream",
     "text": [
      "Root  :  ('A', 'B', 'C', 'D', 'E', 'F')\n",
      "A  :  ('Root',)\n",
      "B  :  ('Root',)\n",
      "C  :  ('Root',)\n",
      "D  :  ('Root',)\n",
      "E  :  ('Root',)\n",
      "F  :  ('Root',)\n"
     ]
    }
   ],
   "source": [
    "G.print()"
   ]
  },
  {
   "cell_type": "code",
   "execution_count": 119,
   "metadata": {},
   "outputs": [
    {
     "data": {
      "text/plain": [
       "array([[0., 1., 1., 1., 1., 1., 1.],\n",
       "       [0., 0., 0., 0., 0., 0., 0.],\n",
       "       [0., 0., 0., 0., 0., 0., 0.],\n",
       "       [0., 0., 0., 0., 0., 0., 0.],\n",
       "       [0., 0., 0., 0., 0., 0., 0.],\n",
       "       [0., 0., 0., 0., 0., 0., 0.],\n",
       "       [0., 0., 0., 0., 0., 0., 0.]])"
      ]
     },
     "execution_count": 119,
     "metadata": {},
     "output_type": "execute_result"
    }
   ],
   "source": [
    "G.AM"
   ]
  },
  {
   "cell_type": "code",
   "execution_count": 79,
   "metadata": {},
   "outputs": [],
   "source": [
    "a = G.list"
   ]
  },
  {
   "cell_type": "code",
   "execution_count": 80,
   "metadata": {},
   "outputs": [
    {
     "data": {
      "text/plain": [
       "[[1, 2, 1, 2], [0, 0, 2, 2], [0, 1, 0, 1, 3, 4], [2, 2], [2, 2]]"
      ]
     },
     "execution_count": 80,
     "metadata": {},
     "output_type": "execute_result"
    }
   ],
   "source": [
    "a"
   ]
  },
  {
   "cell_type": "code",
   "execution_count": null,
   "metadata": {},
   "outputs": [],
   "source": []
  }
 ],
 "metadata": {
  "kernelspec": {
   "display_name": "Python 3",
   "language": "python",
   "name": "python3"
  },
  "language_info": {
   "codemirror_mode": {
    "name": "ipython",
    "version": 3
   },
   "file_extension": ".py",
   "mimetype": "text/x-python",
   "name": "python",
   "nbconvert_exporter": "python",
   "pygments_lexer": "ipython3",
   "version": "3.6.5"
  }
 },
 "nbformat": 4,
 "nbformat_minor": 2
}
