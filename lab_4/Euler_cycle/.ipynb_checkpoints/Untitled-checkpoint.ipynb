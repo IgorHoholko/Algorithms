{
 "cells": [
  {
   "cell_type": "code",
   "execution_count": 44,
   "metadata": {},
   "outputs": [],
   "source": [
    "import networkx as nx\n",
    "import matplotlib.pyplot as plt"
   ]
  },
  {
   "cell_type": "code",
   "execution_count": 75,
   "metadata": {},
   "outputs": [],
   "source": [
    "import numpy as np\n",
    "import copy\n",
    "\n",
    "class Graph:\n",
    "    def __init__(self, params_drawing = {}, storage_method = 'list'):\n",
    "        \"\"\"\n",
    "        Parameters\n",
    "        ----------\n",
    "            params_drawing : dict\n",
    "                The dict with params for drawing.\n",
    "                'font_size' --- 'node_size' --- 'node_color' --- 'font_color' --- 'font_weight'\n",
    "                \n",
    "            storage_method : optional\n",
    "                Variable to choose the method of the vertices' storing.\n",
    "                \n",
    "                ========    ============\n",
    "                'matrix'    matrix only\n",
    "                'list'      list only\n",
    "                'both'      both of them\n",
    "        \"\"\"\n",
    "        self.stor_method = storage_method\n",
    "        self.list = list()     # adjacency List\n",
    "        self.AM = None         # adjacency Matrix\n",
    "        self.keys_idx = dict()\n",
    "        self.idx_keys = dict()  \n",
    "        self.params_drawing = {'font_size': 15, 'node_size' : 1000, 'node_color' : 'black', 'font_color' : 'w', 'font_weight': 'bold'}\n",
    "        self.m = 0    #num of the edges\n",
    "        self.n = 0    #num of the vertices\n",
    "        \n",
    "        self.params_drawing.update(params_drawing)\n",
    "        print(self.params_drawing)\n",
    "      \n",
    "    \n",
    "    def _addTo_graph_list(self):\n",
    "        \"Expand the adjacency list when adding a point\"\n",
    "        self.list.append([])\n",
    "\n",
    "            \n",
    "    def _addTo_graph_matrix(self):\n",
    "        \"Expand the adjacency matrix when adding a point\"\n",
    "        if self.AM is not None:\n",
    "            self.AM = np.hstack((self.AM, np.zeros((self.AM.shape[0], 1)) ))\n",
    "            self.AM = np.vstack((self.AM, np.zeros((1, self.AM.shape[1])) ))\n",
    "        else:\n",
    "            self.AM = np.zeros((1, 1)) \n",
    "    \n",
    "    \n",
    "    def _add_adj_to_matrix(self, v, other_v):\n",
    "        \"Add the adjacency between the vertex 'v' and the vertices(vertex) 'other_v' \"\n",
    "        self.AM[v, other_v] = 1\n",
    "        self.AM[other_v, v] = 1\n",
    "    \n",
    "    def _del_adj_from_matrix(self, v, other_v):\n",
    "        \"Delete the adjacency between the vertex 'v' and the vertices(vertex) 'other_v' \"\n",
    "        self.AM[v, other_v] = 0\n",
    "        self.AM[other_v, v] = 0\n",
    "        \n",
    "    def _keys_to_indexis(self, keys):\n",
    "        \"Transform vertices' keys to the vertices' idx\"\n",
    "        if type(keys) is tuple or type(keys) is list:\n",
    "            return [self.keys_idx.get(el) for el in keys]\n",
    "        else:\n",
    "            return self.keys_idx.get(keys)\n",
    "        \n",
    "    def _indexis_to_keys(self, idxs):\n",
    "        \"Transform vertices' indexis to the vertices' keys\"\n",
    "        if type(idxs) is tuple or type(idxs) is list:\n",
    "            return [self.idx_keys.get(el) for el in idxs]\n",
    "        else:\n",
    "            return self.idx_keys.get(idxs)\n",
    "    \n",
    "    def _creatr_idx_dict_from_keys_dict(self):\n",
    "        \"Create new the idx_keys dictionary from the keys_dict dictionary\"\n",
    "        self.idx_keys.clear()\n",
    "        for key in self.keys_idx:\n",
    "            self.idx_keys.setdefault(self.keys_idx[key], key)\n",
    "        \n",
    "        \n",
    "    def _update_dicts(self, idx):  \n",
    "        \"Update dicts\"\n",
    "        for key in self.keys_idx:\n",
    "            if self.keys_idx[key] > idx:\n",
    "                  self.keys_idx[key] -=1\n",
    "        self._creatr_idx_dict_from_keys_dict()\n",
    "            \n",
    "        \n",
    "    def _del_v_from_matrix(self, v):\n",
    "        \"Delete the vertex v from the graph\"\n",
    "        #\"Delete all connections of the point v with other ones\"\n",
    "        self.AM[v, :] = 0\n",
    "        self.AM[:, v] = 0\n",
    "        self.n -= 1\n",
    "        \n",
    "        #Selecte coordinates of the every point in the graph \n",
    "        #which is adjacent with some anather one\n",
    "        col, row = np.where(self.AM == 1)\n",
    "        \n",
    "        #Create new adjacency matrix without old vertex\n",
    "        self.AM = np.zeros((self.n, self.n))\n",
    "\n",
    "        #Prepare coordinates for the created matrix\n",
    "        for i in range(len(col)):\n",
    "            if col[i] > v: col[i] -= 1\n",
    "            if row[i] > v: row[i] -= 1\n",
    "        \n",
    "        self.AM[col, row] = 1\n",
    "        \n",
    "        \n",
    "    def _matrix_to_list(self):\n",
    "        \"Transform the graph' adjacency matrix to the adjacency list\"\n",
    "        #Selecte coordinates of the every point in the graph \n",
    "        #which is adjacent with some anather one\n",
    "        col, row = np.where(self.AM)\n",
    "        \n",
    "        #Create new adjacency list, and append all verteces from the gtaf\n",
    "        self.list = []\n",
    "        for _ in range(self.n):\n",
    "            self._addTo_graph_list()\n",
    "        \n",
    "        #Add adjacency to the list\n",
    "        for i in range(len(col)):\n",
    "            self.list[col[i]].append(row[i])\n",
    "    \n",
    "    \n",
    "    def add_v(self, *args):\n",
    "        \"\"\"\n",
    "        Add the vertices to the graph.\n",
    "        \n",
    "        Parameters\n",
    "        ----------\n",
    "            args : tuple\n",
    "                Set of the points (v1, v2, ... v_k).\n",
    "        \"\"\"\n",
    "        for key in args:\n",
    "            if self.keys_idx.get(key) == None:\n",
    "                # add each new vertex to the dicts\n",
    "                self.keys_idx.setdefault(key, self.n)\n",
    "                self.idx_keys.setdefault(self.n, key)\n",
    "\n",
    "                #expand the storage objects\n",
    "                self._addTo_graph_matrix()\n",
    "                #number of the vertices +1\n",
    "                self.n += 1\n",
    "    \n",
    "        \n",
    "    def add_adj(self, data):\n",
    "        \"\"\" \n",
    "        Add the adjacency to the graph.\n",
    "        \n",
    "        Parameters\n",
    "        ----------\n",
    "            data : dict( key_i : (v_n) )\n",
    "                Make adjacency between vertexx key_i and vertex/vertices v_n.\n",
    "            \n",
    "                =====    ==========================\n",
    "                key_i    Any vertices in the graph.\n",
    "                (v_n)    The tuple of vertices.\n",
    "        \"\"\" \n",
    "        for key in data:\n",
    "            #transform 'names' receiving from the user to the indexes\n",
    "            idx = self.keys_idx.get(key)\n",
    "            idxs_adj = self._keys_to_indexis(data[key])\n",
    "            \n",
    "            #add the edges to the storage objects\n",
    "            self._add_adj_to_matrix(idx, idxs_adj)\n",
    "    \n",
    "    \n",
    "    def remove_v(self, *args):\n",
    "        \"\"\"\n",
    "        Remove the vertices from the graph.\n",
    "        \n",
    "        Parameters\n",
    "        ----------\n",
    "            args : tuple\n",
    "                Set of the points (v1, v2, ... v_k).\n",
    "        \"\"\"\n",
    "        for key in args:\n",
    "            #transform key to the index of the point\n",
    "            v_main = self._keys_to_indexis(key)\n",
    "            \n",
    "            #delete the vertex from the both dictionaries\n",
    "            self.keys_idx.pop(key)\n",
    "            self._update_dicts(v_main)\n",
    "            \n",
    "            #delete vertex from the adjacency matrix\n",
    "            self._del_v_from_matrix(v_main)\n",
    "        \n",
    "            \n",
    "    def get_Euler_path(self, key = None):\n",
    "        \"\"\"\n",
    "        Get Euler path in the graf if it exist.\n",
    "        \n",
    "        Parameters\n",
    "        -------\n",
    "            key: string, int\n",
    "                Starting vertex in the path.\n",
    "            \n",
    "        Returns\n",
    "        -------\n",
    "            path : array\n",
    "                Array of the Euler path's vertices.\n",
    "        \"\"\"\n",
    "        #create the adjacency list\n",
    "        self._matrix_to_list()\n",
    "        \n",
    "        #if graph is not Euler return None\n",
    "        for row in self.list:\n",
    "            if len(row) % 2 == 1:\n",
    "                print(\"graph hasn't a got Eulear cycle\")\n",
    "                return None\n",
    "        \n",
    "        #link to the list\n",
    "        graph = self.list\n",
    "        \n",
    "        #if user sent the starting vertex's key\n",
    "        if key is not None:\n",
    "            #give the vertex's idx from the key\n",
    "            v = self._keys_to_indexis(key)\n",
    "            stack = [v]\n",
    "        else:\n",
    "            #else start from the first vertex in the graf\n",
    "            stack = [0]\n",
    "        #Euler path  \n",
    "        path = []\n",
    "    \n",
    "        while stack:\n",
    "            v = stack[-1]\n",
    "            if graph[v]:\n",
    "                u = graph[v][0]\n",
    "                stack.append(u)\n",
    "                # deleting edge u-v\n",
    "                del graph[u][ graph[u].index(v) ]\n",
    "                del graph[v][0]\n",
    "            else:\n",
    "                path.append( stack.pop() )\n",
    "               \n",
    "        return self._indexis_to_keys( path )\n",
    "           \n",
    "    def set_dictance(self, points, dictances):\n",
    "        pass\n",
    "    \n",
    "    def remove_adj(self, data):\n",
    "        \"\"\" \n",
    "        Remove the adjacency from the graph.\n",
    "        \n",
    "        Parameters\n",
    "        ----------\n",
    "            data --- dict( key_i : (v_n) )\n",
    "                Delete adjacency between vertex key_i and vertex/vertices v_n.\n",
    "                \n",
    "                ======   ==========================\n",
    "                key_i    Any vertices in the graph.\n",
    "                (v_n)    Tuple of the vertices.\n",
    "        \"\"\" \n",
    "        for key in data:\n",
    "            #transform the 'names' receiving from the user to the indexes\n",
    "            idx = self.keys_idx.get(key)\n",
    "            idxs_adj = self._keys_to_indexis(data[key])\n",
    "            \n",
    "            #delete the edges from the storage objects\n",
    "            self._del_adj_from_matrix(idx, idxs_adj)\n",
    "    \n",
    "    \n",
    "    def print(self):\n",
    "        \"\"\" \n",
    "        Print the incidence list.\n",
    "        \"\"\"\n",
    "        \n",
    "        self._matrix_to_list()\n",
    "        for i, row in enumerate(self.list):\n",
    "            print(self.idx_keys.get(i), ' : ', tuple([self.idx_keys.get(k) for k in row]))\n",
    "        self.list = None\n",
    "    \n",
    "    \n",
    "    def draw(self):\n",
    "        \"\"\" \n",
    "        Draw the graph.\n",
    "        \"\"\"\n",
    "        \n",
    "        K=nx.Graph(self.AM)\n",
    "        nx.draw(K, labels = self.idx_keys, font_size= self.params_drawing.get('font_size'),\\\n",
    "                node_size=self.params_drawing.get('node_size'), node_color=self.params_drawing.get('node_color'),\n",
    "                font_color=self.params_drawing.get('font_color'), font_weight=self.params_drawing.get('font_weight'))"
   ]
  },
  {
   "cell_type": "code",
   "execution_count": 76,
   "metadata": {},
   "outputs": [
    {
     "name": "stdout",
     "output_type": "stream",
     "text": [
      "{'font_size': 10, 'node_size': 300, 'node_color': 'yellow', 'font_color': 'b', 'font_weight': 'bold'}\n"
     ]
    }
   ],
   "source": [
    "G = Graph({'node_color': 'yellow', 'font_color': 'b', 'node_size' : 300, 'font_size': 10})\n",
    "G.add_v(1, 2, 3, 4, 5, 6, 7)\n",
    "G.add_adj({1:(2, 4), 2:(1,4,3,5), 3:(2, 5), 4: (1, 2, 5, 6), 5:(3, 2, 4, 7), 6:(4, 7), 7: (6, 5)})"
   ]
  },
  {
   "cell_type": "code",
   "execution_count": 77,
   "metadata": {},
   "outputs": [],
   "source": [
    "# G.remove_adj({'F':'Root'})"
   ]
  },
  {
   "cell_type": "code",
   "execution_count": 78,
   "metadata": {},
   "outputs": [
    {
     "data": {
      "image/png": "[encoded data removed]",
      "text/plain": [
       "<Figure size 432x288 with 1 Axes>"
      ]
     },
     "metadata": {},
     "output_type": "display_data"
    }
   ],
   "source": [
    "G.draw()"
   ]
  },
  {
   "cell_type": "code",
   "execution_count": 81,
   "metadata": {},
   "outputs": [
    {
     "data": {
      "text/plain": [
       "[5, 7, 6, 4, 5, 3, 2, 4, 1, 2, 5]"
      ]
     },
     "execution_count": 81,
     "metadata": {},
     "output_type": "execute_result"
    }
   ],
   "source": [
    "G.get_Euler_path(5)"
   ]
  },
  {
   "cell_type": "code",
   "execution_count": 56,
   "metadata": {},
   "outputs": [
    {
     "name": "stdout",
     "output_type": "stream",
     "text": [
      "1  :  (2, 4)\n",
      "2  :  (1, 3, 4, 5)\n",
      "3  :  (2, 5)\n",
      "4  :  (1, 2, 5, 6)\n",
      "5  :  (2, 3, 4, 7)\n",
      "6  :  (4, 7)\n",
      "7  :  (5, 6)\n"
     ]
    }
   ],
   "source": [
    "G.print()"
   ]
  },
  {
   "cell_type": "code",
   "execution_count": 57,
   "metadata": {},
   "outputs": [
    {
     "data": {
      "text/plain": [
       "array([[0., 1., 0., 1., 0., 0., 0.],\n",
       "       [1., 0., 1., 1., 1., 0., 0.],\n",
       "       [0., 1., 0., 0., 1., 0., 0.],\n",
       "       [1., 1., 0., 0., 1., 1., 0.],\n",
       "       [0., 1., 1., 1., 0., 0., 1.],\n",
       "       [0., 0., 0., 1., 0., 0., 1.],\n",
       "       [0., 0., 0., 0., 1., 1., 0.]])"
      ]
     },
     "execution_count": 57,
     "metadata": {},
     "output_type": "execute_result"
    }
   ],
   "source": [
    "G.AM"
   ]
  },
  {
   "cell_type": "code",
   "execution_count": 24,
   "metadata": {},
   "outputs": [
    {
     "data": {
      "text/plain": [
       "True"
      ]
     },
     "execution_count": 24,
     "metadata": {},
     "output_type": "execute_result"
    }
   ],
   "source": [
    "5 in a"
   ]
  },
  {
   "cell_type": "code",
   "execution_count": 71,
   "metadata": {},
   "outputs": [],
   "source": [
    "a = np.array([1])"
   ]
  },
  {
   "cell_type": "code",
   "execution_count": null,
   "metadata": {},
   "outputs": [],
   "source": [
    "a.argmax()"
   ]
  }
 ],
 "metadata": {
  "kernelspec": {
   "display_name": "Python 3",
   "language": "python",
   "name": "python3"
  },
  "language_info": {
   "codemirror_mode": {
    "name": "ipython",
    "version": 3
   },
   "file_extension": ".py",
   "mimetype": "text/x-python",
   "name": "python",
   "nbconvert_exporter": "python",
   "pygments_lexer": "ipython3",
   "version": "3.6.5"
  }
 },
 "nbformat": 4,
 "nbformat_minor": 2
}
